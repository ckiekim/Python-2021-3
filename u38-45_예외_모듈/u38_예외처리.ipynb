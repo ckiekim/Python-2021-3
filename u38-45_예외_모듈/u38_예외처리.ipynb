{
  "nbformat": 4,
  "nbformat_minor": 0,
  "metadata": {
    "colab": {
      "name": "u38_예외처리.ipynb",
      "provenance": [],
      "collapsed_sections": []
    },
    "kernelspec": {
      "name": "python3",
      "display_name": "Python 3"
    },
    "language_info": {
      "name": "python"
    }
  },
  "cells": [
    {
      "cell_type": "markdown",
      "metadata": {
        "id": "CKiO3lynsLAk"
      },
      "source": [
        "# Unit 38. 예외 처리"
      ]
    },
    {
      "cell_type": "markdown",
      "metadata": {
        "id": "tLI8ySWatDuv"
      },
      "source": [
        "## 38.1 try-except"
      ]
    },
    {
      "cell_type": "code",
      "metadata": {
        "colab": {
          "base_uri": "https://localhost:8080/"
        },
        "id": "kGGpRpfKsn16",
        "outputId": "0b9a2cd8-6c95-48ec-d451-f92c51569e4d"
      },
      "source": [
        "a = [1,2,3]\n",
        "try:\n",
        "    a[4]\n",
        "except:\n",
        "    print('예외 발생')"
      ],
      "execution_count": 2,
      "outputs": [
        {
          "output_type": "stream",
          "text": [
            "예외 발생\n"
          ],
          "name": "stdout"
        }
      ]
    },
    {
      "cell_type": "code",
      "metadata": {
        "colab": {
          "base_uri": "https://localhost:8080/",
          "height": 172
        },
        "id": "Abv_h9YCta6C",
        "outputId": "927e1170-e1b6-465d-d98f-e4e5b250b0df"
      },
      "source": [
        "int('10d')"
      ],
      "execution_count": 4,
      "outputs": [
        {
          "output_type": "error",
          "ename": "ValueError",
          "evalue": "ignored",
          "traceback": [
            "\u001b[0;31m---------------------------------------------------------------------------\u001b[0m",
            "\u001b[0;31mValueError\u001b[0m                                Traceback (most recent call last)",
            "\u001b[0;32m<ipython-input-4-331fb23f7ae1>\u001b[0m in \u001b[0;36m<module>\u001b[0;34m()\u001b[0m\n\u001b[0;32m----> 1\u001b[0;31m \u001b[0mint\u001b[0m\u001b[0;34m(\u001b[0m\u001b[0;34m'10d'\u001b[0m\u001b[0;34m)\u001b[0m\u001b[0;34m\u001b[0m\u001b[0;34m\u001b[0m\u001b[0m\n\u001b[0m",
            "\u001b[0;31mValueError\u001b[0m: invalid literal for int() with base 10: '10d'"
          ]
        }
      ]
    },
    {
      "cell_type": "markdown",
      "metadata": {
        "id": "NVH_8jkBwkEM"
      },
      "source": [
        "### 특정 예외만 처리하기"
      ]
    },
    {
      "cell_type": "code",
      "metadata": {
        "colab": {
          "base_uri": "https://localhost:8080/",
          "height": 244
        },
        "id": "rKHQ5u4TulY-",
        "outputId": "27f91c91-6072-4c74-805c-aaa27b40d799"
      },
      "source": [
        "try:\n",
        "    int('10d')\n",
        "except ZeroDivisionError:\n",
        "    print('0으로 나눌 수 없습니다.')\n",
        "except IndexError:\n",
        "    print('Index Error 발생')"
      ],
      "execution_count": 5,
      "outputs": [
        {
          "output_type": "error",
          "ename": "ValueError",
          "evalue": "ignored",
          "traceback": [
            "\u001b[0;31m---------------------------------------------------------------------------\u001b[0m",
            "\u001b[0;31mValueError\u001b[0m                                Traceback (most recent call last)",
            "\u001b[0;32m<ipython-input-5-ee9b0c9a0598>\u001b[0m in \u001b[0;36m<module>\u001b[0;34m()\u001b[0m\n\u001b[1;32m      1\u001b[0m \u001b[0;32mtry\u001b[0m\u001b[0;34m:\u001b[0m\u001b[0;34m\u001b[0m\u001b[0;34m\u001b[0m\u001b[0m\n\u001b[0;32m----> 2\u001b[0;31m     \u001b[0mint\u001b[0m\u001b[0;34m(\u001b[0m\u001b[0;34m'10d'\u001b[0m\u001b[0;34m)\u001b[0m\u001b[0;34m\u001b[0m\u001b[0;34m\u001b[0m\u001b[0m\n\u001b[0m\u001b[1;32m      3\u001b[0m \u001b[0;32mexcept\u001b[0m \u001b[0mZeroDivisionError\u001b[0m\u001b[0;34m:\u001b[0m\u001b[0;34m\u001b[0m\u001b[0;34m\u001b[0m\u001b[0m\n\u001b[1;32m      4\u001b[0m     \u001b[0mprint\u001b[0m\u001b[0;34m(\u001b[0m\u001b[0;34m'0으로 나눌 수 없습니다.'\u001b[0m\u001b[0;34m)\u001b[0m\u001b[0;34m\u001b[0m\u001b[0;34m\u001b[0m\u001b[0m\n\u001b[1;32m      5\u001b[0m \u001b[0;32mexcept\u001b[0m \u001b[0mIndexError\u001b[0m\u001b[0;34m:\u001b[0m\u001b[0;34m\u001b[0m\u001b[0;34m\u001b[0m\u001b[0m\n",
            "\u001b[0;31mValueError\u001b[0m: invalid literal for int() with base 10: '10d'"
          ]
        }
      ]
    },
    {
      "cell_type": "code",
      "metadata": {
        "colab": {
          "base_uri": "https://localhost:8080/"
        },
        "id": "GYwfl1kxv8Sp",
        "outputId": "8b7505fa-ebcd-451b-8b48-e6799f9dc268"
      },
      "source": [
        "try:\n",
        "    int('10d')\n",
        "except ZeroDivisionError:\n",
        "    print('0으로 나눌 수 없습니다.')\n",
        "except IndexError:\n",
        "    print('Index Error 발생')\n",
        "except ValueError:\n",
        "    print('Value Error 발생')"
      ],
      "execution_count": 6,
      "outputs": [
        {
          "output_type": "stream",
          "text": [
            "Value Error 발생\n"
          ],
          "name": "stdout"
        }
      ]
    },
    {
      "cell_type": "markdown",
      "metadata": {
        "id": "Uzqh_nvww4PG"
      },
      "source": [
        "### 예외의 에러 메시지 받아오기"
      ]
    },
    {
      "cell_type": "code",
      "metadata": {
        "colab": {
          "base_uri": "https://localhost:8080/"
        },
        "id": "GrgyVhHlwHRT",
        "outputId": "5be8bdef-1882-46cd-feb1-487091d753a5"
      },
      "source": [
        "try:\n",
        "    int('10d')\n",
        "except Exception as e:      # alias\n",
        "    print(e)                # Exception 객체의 __str__() method"
      ],
      "execution_count": 7,
      "outputs": [
        {
          "output_type": "stream",
          "text": [
            "invalid literal for int() with base 10: '10d'\n"
          ],
          "name": "stdout"
        }
      ]
    },
    {
      "cell_type": "markdown",
      "metadata": {
        "id": "M3ERLoF4xf12"
      },
      "source": [
        "## 38.2 else-finally"
      ]
    },
    {
      "cell_type": "code",
      "metadata": {
        "colab": {
          "base_uri": "https://localhost:8080/"
        },
        "id": "8kZmW8wcxMJw",
        "outputId": "d33dea42-6ea6-485f-aa31-ac2015e28e1c"
      },
      "source": [
        "try:\n",
        "    x = int(input('나눌 숫자 입력> '))\n",
        "    y = 10 / x\n",
        "except Exception as e:\n",
        "    print(e)\n",
        "else:\n",
        "    print(y)"
      ],
      "execution_count": 10,
      "outputs": [
        {
          "output_type": "stream",
          "text": [
            "나눌 숫자 입력> 5r\n",
            "invalid literal for int() with base 10: '5r'\n"
          ],
          "name": "stdout"
        }
      ]
    },
    {
      "cell_type": "code",
      "metadata": {
        "colab": {
          "base_uri": "https://localhost:8080/"
        },
        "id": "oq0YCXzm11pH",
        "outputId": "947d8868-eba8-49f8-8991-6c3ec5bb3ad7"
      },
      "source": [
        "# 예외와 상관없이 항상 실행\n",
        "try:\n",
        "    x = int(input('나눌 숫자 입력> '))\n",
        "    y = 10 / x\n",
        "except Exception as e:\n",
        "    print(e)\n",
        "else:\n",
        "    print(y)\n",
        "finally:\n",
        "    print('코드 실행 종료')"
      ],
      "execution_count": 13,
      "outputs": [
        {
          "output_type": "stream",
          "text": [
            "나눌 숫자 입력> 5.\n",
            "invalid literal for int() with base 10: '5.'\n",
            "코드 실행 종료\n"
          ],
          "name": "stdout"
        }
      ]
    },
    {
      "cell_type": "markdown",
      "metadata": {
        "id": "RpzFJUzF3WHf"
      },
      "source": [
        "## 38.3 예외 발생시키기"
      ]
    },
    {
      "cell_type": "code",
      "metadata": {
        "colab": {
          "base_uri": "https://localhost:8080/"
        },
        "id": "-7GqozS22X8L",
        "outputId": "a8347309-d402-46e4-e332-d620c8a3aa89"
      },
      "source": [
        "import random\n",
        "try:\n",
        "    x = random.randint(1,10)\n",
        "    print(x)\n",
        "    if x % 3 != 0:\n",
        "        raise Exception('3의 배수가 아닙니다.')\n",
        "except Exception as e:\n",
        "    print('예외 발생 -', e)"
      ],
      "execution_count": 19,
      "outputs": [
        {
          "output_type": "stream",
          "text": [
            "8\n",
            "예외 발생 - 3의 배수가 아닙니다.\n"
          ],
          "name": "stdout"
        }
      ]
    },
    {
      "cell_type": "code",
      "metadata": {
        "id": "kd2493-J5S-W"
      },
      "source": [
        "def multiple11(x):\n",
        "    if x % 11 != 0:\n",
        "        raise Exception('11의 배수가 아닙니다.')\n",
        "    print(x)"
      ],
      "execution_count": 20,
      "outputs": []
    },
    {
      "cell_type": "code",
      "metadata": {
        "colab": {
          "base_uri": "https://localhost:8080/"
        },
        "id": "3Iz0tP2u6Ms-",
        "outputId": "dd4ed0f1-2bc7-4470-f13f-889da880f19d"
      },
      "source": [
        "try:\n",
        "    multiple11(100)\n",
        "except Exception as e:\n",
        "    print('예외 발생 -', e)"
      ],
      "execution_count": 21,
      "outputs": [
        {
          "output_type": "stream",
          "text": [
            "예외 발생 - 11의 배수가 아닙니다.\n"
          ],
          "name": "stdout"
        }
      ]
    },
    {
      "cell_type": "markdown",
      "metadata": {
        "id": "wmTHl0kC7jQW"
      },
      "source": [
        "## 38.4 예외 만들기"
      ]
    },
    {
      "cell_type": "code",
      "metadata": {
        "id": "5iC3CZe-7lx6"
      },
      "source": [
        "# Exception 객체를 상속받아 객체를 만들면 됨"
      ],
      "execution_count": null,
      "outputs": []
    }
  ]
}