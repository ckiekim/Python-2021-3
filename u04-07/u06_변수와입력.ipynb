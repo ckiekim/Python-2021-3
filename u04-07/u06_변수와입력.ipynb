{
  "nbformat": 4,
  "nbformat_minor": 0,
  "metadata": {
    "colab": {
      "name": "u06_변수와입력.ipynb",
      "provenance": [],
      "collapsed_sections": []
    },
    "kernelspec": {
      "name": "python3",
      "display_name": "Python 3"
    },
    "language_info": {
      "name": "python"
    }
  },
  "cells": [
    {
      "cell_type": "markdown",
      "metadata": {
        "id": "1zDv3IURLo4N"
      },
      "source": [
        "# Unit 6. 변수와 입력"
      ]
    },
    {
      "cell_type": "markdown",
      "metadata": {
        "id": "CfnJcb5tLtUE"
      },
      "source": [
        "## 6.1 변수\n",
        "- 영문 문자와 숫자를 사용할 수 있습니다.\n",
        "- 대소문자를 구분합니다.\n",
        "- 문자부터 시작해야 하며 숫자부터 시작하면 안 됩니다.\n",
        "- _(밑줄 문자)로 시작할 수 있습니다.\n",
        "- 특수 문자(+, -, *, /, $, @, &, % 등)는 사용할 수 없습니다.\n",
        "- 파이썬의 키워드(if, for, while, and, or 등)는 사용할 수 없습니다."
      ]
    },
    {
      "cell_type": "code",
      "metadata": {
        "colab": {
          "base_uri": "https://localhost:8080/"
        },
        "id": "41rvDsMzLnwn",
        "outputId": "fc708dcd-7cb8-4865-eac9-805984998e74"
      },
      "source": [
        "x = 10\n",
        "x"
      ],
      "execution_count": 1,
      "outputs": [
        {
          "output_type": "execute_result",
          "data": {
            "text/plain": [
              "10"
            ]
          },
          "metadata": {
            "tags": []
          },
          "execution_count": 1
        }
      ]
    },
    {
      "cell_type": "code",
      "metadata": {
        "colab": {
          "base_uri": "https://localhost:8080/",
          "height": 35
        },
        "id": "EphSHcFYNIf0",
        "outputId": "e496ab5e-906b-498b-b805-e26ed14cb884"
      },
      "source": [
        "s = 'Hello, world!'\n",
        "s"
      ],
      "execution_count": 3,
      "outputs": [
        {
          "output_type": "execute_result",
          "data": {
            "application/vnd.google.colaboratory.intrinsic+json": {
              "type": "string"
            },
            "text/plain": [
              "'Hello, world!'"
            ]
          },
          "metadata": {
            "tags": []
          },
          "execution_count": 3
        }
      ]
    },
    {
      "cell_type": "code",
      "metadata": {
        "colab": {
          "base_uri": "https://localhost:8080/"
        },
        "id": "6bmcN9exNPVC",
        "outputId": "66d175ae-b215-4c36-b468-ce1c31c99f08"
      },
      "source": [
        "type(x), type(s)"
      ],
      "execution_count": 4,
      "outputs": [
        {
          "output_type": "execute_result",
          "data": {
            "text/plain": [
              "(int, str)"
            ]
          },
          "metadata": {
            "tags": []
          },
          "execution_count": 4
        }
      ]
    },
    {
      "cell_type": "code",
      "metadata": {
        "colab": {
          "base_uri": "https://localhost:8080/"
        },
        "id": "ym_CO_rfNZtf",
        "outputId": "e2aa1a6b-f212-4e03-85c5-75186b61397c"
      },
      "source": [
        "x, y, z = 10, 20, 30\n",
        "x, y, z"
      ],
      "execution_count": 5,
      "outputs": [
        {
          "output_type": "execute_result",
          "data": {
            "text/plain": [
              "(10, 20, 30)"
            ]
          },
          "metadata": {
            "tags": []
          },
          "execution_count": 5
        }
      ]
    },
    {
      "cell_type": "code",
      "metadata": {
        "colab": {
          "base_uri": "https://localhost:8080/"
        },
        "id": "lL9COXBcNnL5",
        "outputId": "517775ad-ac2f-47fd-d2af-4824ca93c4c2"
      },
      "source": [
        "x = y = z = 10\n",
        "x, y, z"
      ],
      "execution_count": 6,
      "outputs": [
        {
          "output_type": "execute_result",
          "data": {
            "text/plain": [
              "(10, 10, 10)"
            ]
          },
          "metadata": {
            "tags": []
          },
          "execution_count": 6
        }
      ]
    },
    {
      "cell_type": "code",
      "metadata": {
        "colab": {
          "base_uri": "https://localhost:8080/",
          "height": 190
        },
        "id": "6INHJ4djNqD6",
        "outputId": "60fdf8aa-d02d-44d1-e6a6-3c53eee97930"
      },
      "source": [
        "del z\n",
        "print(z)"
      ],
      "execution_count": 7,
      "outputs": [
        {
          "output_type": "error",
          "ename": "NameError",
          "evalue": "ignored",
          "traceback": [
            "\u001b[0;31m---------------------------------------------------------------------------\u001b[0m",
            "\u001b[0;31mNameError\u001b[0m                                 Traceback (most recent call last)",
            "\u001b[0;32m<ipython-input-7-8f47a1d0824e>\u001b[0m in \u001b[0;36m<module>\u001b[0;34m()\u001b[0m\n\u001b[1;32m      1\u001b[0m \u001b[0;32mdel\u001b[0m \u001b[0mz\u001b[0m\u001b[0;34m\u001b[0m\u001b[0;34m\u001b[0m\u001b[0m\n\u001b[0;32m----> 2\u001b[0;31m \u001b[0mprint\u001b[0m\u001b[0;34m(\u001b[0m\u001b[0mz\u001b[0m\u001b[0;34m)\u001b[0m\u001b[0;34m\u001b[0m\u001b[0;34m\u001b[0m\u001b[0m\n\u001b[0m",
            "\u001b[0;31mNameError\u001b[0m: name 'z' is not defined"
          ]
        }
      ]
    },
    {
      "cell_type": "code",
      "metadata": {
        "colab": {
          "base_uri": "https://localhost:8080/"
        },
        "id": "V0q6O1LAN2XN",
        "outputId": "5f302f14-2460-471e-bc24-a80503b6f752"
      },
      "source": [
        "# Null\n",
        "x = None\n",
        "print(x)"
      ],
      "execution_count": 8,
      "outputs": [
        {
          "output_type": "stream",
          "text": [
            "None\n"
          ],
          "name": "stdout"
        }
      ]
    },
    {
      "cell_type": "code",
      "metadata": {
        "id": "GCy-GISEOM4d"
      },
      "source": [
        "x"
      ],
      "execution_count": 9,
      "outputs": []
    },
    {
      "cell_type": "markdown",
      "metadata": {
        "id": "TRb7o4YFOZsL"
      },
      "source": [
        "## 6.2 변수로 계산"
      ]
    },
    {
      "cell_type": "code",
      "metadata": {
        "colab": {
          "base_uri": "https://localhost:8080/"
        },
        "id": "qe8PZ0H8OOSs",
        "outputId": "974639f9-c167-4702-96a1-760a198b1450"
      },
      "source": [
        "a = 10\n",
        "a = a + 10\n",
        "a"
      ],
      "execution_count": 10,
      "outputs": [
        {
          "output_type": "execute_result",
          "data": {
            "text/plain": [
              "20"
            ]
          },
          "metadata": {
            "tags": []
          },
          "execution_count": 10
        }
      ]
    },
    {
      "cell_type": "code",
      "metadata": {
        "colab": {
          "base_uri": "https://localhost:8080/"
        },
        "id": "9AHm_bZUOxjf",
        "outputId": "4727a9fb-d2be-4796-c45b-8745e71ebce2"
      },
      "source": [
        "a = 10\n",
        "a += 10     # a = a + 10\n",
        "a"
      ],
      "execution_count": 11,
      "outputs": [
        {
          "output_type": "execute_result",
          "data": {
            "text/plain": [
              "20"
            ]
          },
          "metadata": {
            "tags": []
          },
          "execution_count": 11
        }
      ]
    },
    {
      "cell_type": "code",
      "metadata": {
        "colab": {
          "base_uri": "https://localhost:8080/"
        },
        "id": "ChSDIJTtPAHb",
        "outputId": "61d7a115-2aaf-4022-aa0d-c6fcba3631c4"
      },
      "source": [
        "sum, prod = 0, 1\n",
        "for i in range(1,11):\n",
        "    sum += i\n",
        "    prod *= i\n",
        "sum, prod"
      ],
      "execution_count": 12,
      "outputs": [
        {
          "output_type": "execute_result",
          "data": {
            "text/plain": [
              "(55, 3628800)"
            ]
          },
          "metadata": {
            "tags": []
          },
          "execution_count": 12
        }
      ]
    },
    {
      "cell_type": "code",
      "metadata": {
        "colab": {
          "base_uri": "https://localhost:8080/"
        },
        "id": "yH5pbfXMPc16",
        "outputId": "4a6634c2-693b-4c3d-d02a-1bd8b0bccd4c"
      },
      "source": [
        "-prod"
      ],
      "execution_count": 13,
      "outputs": [
        {
          "output_type": "execute_result",
          "data": {
            "text/plain": [
              "-3628800"
            ]
          },
          "metadata": {
            "tags": []
          },
          "execution_count": 13
        }
      ]
    },
    {
      "cell_type": "markdown",
      "metadata": {
        "id": "q3Lim3omQHos"
      },
      "source": [
        "## 6.3 입력(input)"
      ]
    },
    {
      "cell_type": "code",
      "metadata": {
        "colab": {
          "base_uri": "https://localhost:8080/"
        },
        "id": "cnZ6cj-9P_yl",
        "outputId": "9ecd2090-55b7-408d-b288-f1bc38d1d46b"
      },
      "source": [
        "x = input()"
      ],
      "execution_count": 15,
      "outputs": [
        {
          "output_type": "stream",
          "text": [
            "Hello, world!\n"
          ],
          "name": "stdout"
        }
      ]
    },
    {
      "cell_type": "code",
      "metadata": {
        "colab": {
          "base_uri": "https://localhost:8080/",
          "height": 35
        },
        "id": "4wjz_LjCQVuj",
        "outputId": "f16e5a03-e8a0-43d0-c8fc-f354ab84cc64"
      },
      "source": [
        "x"
      ],
      "execution_count": 16,
      "outputs": [
        {
          "output_type": "execute_result",
          "data": {
            "application/vnd.google.colaboratory.intrinsic+json": {
              "type": "string"
            },
            "text/plain": [
              "'Hello, world!'"
            ]
          },
          "metadata": {
            "tags": []
          },
          "execution_count": 16
        }
      ]
    },
    {
      "cell_type": "code",
      "metadata": {
        "colab": {
          "base_uri": "https://localhost:8080/"
        },
        "id": "bANNByTtQi9e",
        "outputId": "86f150d7-7b49-4711-91fa-0be5d7bb351b"
      },
      "source": [
        "x = input('1에서 10사이의 정수값> ')    # prompt"
      ],
      "execution_count": 19,
      "outputs": [
        {
          "output_type": "stream",
          "text": [
            "1에서 10사이의 정수값> 7\n"
          ],
          "name": "stdout"
        }
      ]
    },
    {
      "cell_type": "code",
      "metadata": {
        "colab": {
          "base_uri": "https://localhost:8080/",
          "height": 71
        },
        "id": "PBWMRyNhQtMf",
        "outputId": "bf3fa50b-2fe3-413d-a68d-6a902851f081"
      },
      "source": [
        "# 입력한 두 정수의 합\n",
        "a = input('첫번째 정수> ')\n",
        "b = input('두번째 정수> ')\n",
        "a+b"
      ],
      "execution_count": 20,
      "outputs": [
        {
          "output_type": "stream",
          "text": [
            "첫번째 정수> 101\n",
            "두번째 정수> 303\n"
          ],
          "name": "stdout"
        },
        {
          "output_type": "execute_result",
          "data": {
            "application/vnd.google.colaboratory.intrinsic+json": {
              "type": "string"
            },
            "text/plain": [
              "'101303'"
            ]
          },
          "metadata": {
            "tags": []
          },
          "execution_count": 20
        }
      ]
    },
    {
      "cell_type": "code",
      "metadata": {
        "colab": {
          "base_uri": "https://localhost:8080/"
        },
        "id": "2lIU-WZFRS5y",
        "outputId": "b4818971-29a6-41b3-bfdb-0027afaa080e"
      },
      "source": [
        "type(a)"
      ],
      "execution_count": 21,
      "outputs": [
        {
          "output_type": "execute_result",
          "data": {
            "text/plain": [
              "str"
            ]
          },
          "metadata": {
            "tags": []
          },
          "execution_count": 21
        }
      ]
    },
    {
      "cell_type": "code",
      "metadata": {
        "colab": {
          "base_uri": "https://localhost:8080/"
        },
        "id": "CnfgvyJrRkPa",
        "outputId": "190d9d66-0b7f-49b4-aa42-decb01d8c9f3"
      },
      "source": [
        "a = input('첫번째 정수> ')\n",
        "b = input('두번째 정수> ')\n",
        "int(a)+int(b)"
      ],
      "execution_count": 22,
      "outputs": [
        {
          "output_type": "stream",
          "text": [
            "첫번째 정수> 101\n",
            "두번째 정수> 303\n"
          ],
          "name": "stdout"
        },
        {
          "output_type": "execute_result",
          "data": {
            "text/plain": [
              "404"
            ]
          },
          "metadata": {
            "tags": []
          },
          "execution_count": 22
        }
      ]
    },
    {
      "cell_type": "code",
      "metadata": {
        "colab": {
          "base_uri": "https://localhost:8080/"
        },
        "id": "fc3HNSH6RubE",
        "outputId": "f2bc51be-6742-46e5-934e-bfbba6d94223"
      },
      "source": [
        "a = int(input('첫번째 정수> '))\n",
        "b = int(input('두번째 정수> '))\n",
        "a+b"
      ],
      "execution_count": 23,
      "outputs": [
        {
          "output_type": "stream",
          "text": [
            "첫번째 정수> 101\n",
            "두번째 정수> 303\n"
          ],
          "name": "stdout"
        },
        {
          "output_type": "execute_result",
          "data": {
            "text/plain": [
              "404"
            ]
          },
          "metadata": {
            "tags": []
          },
          "execution_count": 23
        }
      ]
    },
    {
      "cell_type": "markdown",
      "metadata": {
        "id": "T5riOSLISM3_"
      },
      "source": [
        "## 6.4 입력값 두개"
      ]
    },
    {
      "cell_type": "code",
      "metadata": {
        "colab": {
          "base_uri": "https://localhost:8080/"
        },
        "id": "Rlyy2vN7R3Ff",
        "outputId": "490e8b68-d126-459f-fe1b-69ef72fd1f36"
      },
      "source": [
        "s.split()"
      ],
      "execution_count": 25,
      "outputs": [
        {
          "output_type": "execute_result",
          "data": {
            "text/plain": [
              "['Hello,', 'world!']"
            ]
          },
          "metadata": {
            "tags": []
          },
          "execution_count": 25
        }
      ]
    },
    {
      "cell_type": "code",
      "metadata": {
        "colab": {
          "base_uri": "https://localhost:8080/"
        },
        "id": "FjO2CmruSWqD",
        "outputId": "86e37c5d-43e7-4e10-dc8c-c39da5c2e279"
      },
      "source": [
        "a, b = s.split()\n",
        "a, b"
      ],
      "execution_count": 26,
      "outputs": [
        {
          "output_type": "execute_result",
          "data": {
            "text/plain": [
              "('Hello,', 'world!')"
            ]
          },
          "metadata": {
            "tags": []
          },
          "execution_count": 26
        }
      ]
    },
    {
      "cell_type": "code",
      "metadata": {
        "colab": {
          "base_uri": "https://localhost:8080/"
        },
        "id": "x_W0uMrzSqlU",
        "outputId": "abf1552c-1d4a-4695-90ac-8a35b63dcb83"
      },
      "source": [
        "a, b, c = 'A quick brown'.split()\n",
        "a, b, c"
      ],
      "execution_count": 27,
      "outputs": [
        {
          "output_type": "execute_result",
          "data": {
            "text/plain": [
              "('A', 'quick', 'brown')"
            ]
          },
          "metadata": {
            "tags": []
          },
          "execution_count": 27
        }
      ]
    },
    {
      "cell_type": "code",
      "metadata": {
        "colab": {
          "base_uri": "https://localhost:8080/"
        },
        "id": "Z8KoFJOOS-PZ",
        "outputId": "357fe00a-2da3-431a-8ab2-a9220bde87ef"
      },
      "source": [
        "a, b = input('정수 두개 입력> ').split()"
      ],
      "execution_count": 28,
      "outputs": [
        {
          "output_type": "stream",
          "text": [
            "정수 두개 입력> 10 20\n"
          ],
          "name": "stdout"
        }
      ]
    },
    {
      "cell_type": "code",
      "metadata": {
        "colab": {
          "base_uri": "https://localhost:8080/"
        },
        "id": "enp7lMMVVy3e",
        "outputId": "b4eff5c8-adb0-47b9-84cd-b85c12b112ec"
      },
      "source": [
        "a = int(a)\n",
        "b = int(b)\n",
        "a+b"
      ],
      "execution_count": 29,
      "outputs": [
        {
          "output_type": "execute_result",
          "data": {
            "text/plain": [
              "30"
            ]
          },
          "metadata": {
            "tags": []
          },
          "execution_count": 29
        }
      ]
    },
    {
      "cell_type": "code",
      "metadata": {
        "colab": {
          "base_uri": "https://localhost:8080/"
        },
        "id": "cogHIUrLV52G",
        "outputId": "0a0294a0-93ea-4cd1-b0fa-5e76c0604957"
      },
      "source": [
        "a, b = input('정수 두개 입력, comma로 구분하세요.> ').split(',')"
      ],
      "execution_count": 30,
      "outputs": [
        {
          "output_type": "stream",
          "text": [
            "정수 두개 입력, comma로 구분하세요.> 10,20\n"
          ],
          "name": "stdout"
        }
      ]
    },
    {
      "cell_type": "code",
      "metadata": {
        "colab": {
          "base_uri": "https://localhost:8080/"
        },
        "id": "ERU_q_bxWJ9P",
        "outputId": "b8623385-e1a0-4660-ce26-9c309a4474af"
      },
      "source": [
        "a = int(a)\n",
        "b = int(b)\n",
        "a+b"
      ],
      "execution_count": 31,
      "outputs": [
        {
          "output_type": "execute_result",
          "data": {
            "text/plain": [
              "30"
            ]
          },
          "metadata": {
            "tags": []
          },
          "execution_count": 31
        }
      ]
    },
    {
      "cell_type": "markdown",
      "metadata": {
        "id": "Dk5MYK2RWX6_"
      },
      "source": [
        "### map \n",
        "- 리스트 각 엘리먼트에 지정한 함수를 적용"
      ]
    },
    {
      "cell_type": "code",
      "metadata": {
        "colab": {
          "base_uri": "https://localhost:8080/"
        },
        "id": "TNYjsA3KWNd1",
        "outputId": "f5617d43-d8e7-47be-8c5c-d4ee5f2341f4"
      },
      "source": [
        "a, b = map(int, [10.2, 11.4])\n",
        "a, b"
      ],
      "execution_count": 33,
      "outputs": [
        {
          "output_type": "execute_result",
          "data": {
            "text/plain": [
              "(10, 11)"
            ]
          },
          "metadata": {
            "tags": []
          },
          "execution_count": 33
        }
      ]
    },
    {
      "cell_type": "code",
      "metadata": {
        "colab": {
          "base_uri": "https://localhost:8080/"
        },
        "id": "CdYq-memW_dc",
        "outputId": "adcd5de7-decd-4bc9-bffe-b6c5c56b1358"
      },
      "source": [
        "a, b = map(int, input('정수 두개 입력> ').split())\n",
        "a + b"
      ],
      "execution_count": 34,
      "outputs": [
        {
          "output_type": "stream",
          "text": [
            "정수 두개 입력> 10 20\n"
          ],
          "name": "stdout"
        },
        {
          "output_type": "execute_result",
          "data": {
            "text/plain": [
              "30"
            ]
          },
          "metadata": {
            "tags": []
          },
          "execution_count": 34
        }
      ]
    },
    {
      "cell_type": "code",
      "metadata": {
        "colab": {
          "base_uri": "https://localhost:8080/"
        },
        "id": "pgstNtwqXU5E",
        "outputId": "b9172e5f-daad-4695-aa6d-f431754c7567"
      },
      "source": [
        "import math\n",
        "a, b = map(math.sqrt, [1, 4])\n",
        "a, b"
      ],
      "execution_count": 35,
      "outputs": [
        {
          "output_type": "execute_result",
          "data": {
            "text/plain": [
              "(1.0, 2.0)"
            ]
          },
          "metadata": {
            "tags": []
          },
          "execution_count": 35
        }
      ]
    },
    {
      "cell_type": "code",
      "metadata": {
        "id": "FPYlfjHvXzlj"
      },
      "source": [
        ""
      ],
      "execution_count": null,
      "outputs": []
    }
  ]
}