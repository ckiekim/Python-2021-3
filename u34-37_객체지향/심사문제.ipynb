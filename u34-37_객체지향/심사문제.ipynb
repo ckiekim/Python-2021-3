{
 "cells": [
  {
   "cell_type": "markdown",
   "source": [
    "## u34\r\n",
    "표준 입력으로 게임 캐릭터 능력치(체력, 마나, AP)가 입력됩니다. <br>다음 소스 코드에서 애니(Annie) 클래스를 작성하여 티버(tibbers) 스킬의 피해량이 출력되게 만드세요. <br>티버의 피해량은 AP * 0.65 + 400이며 AP(Ability Power, 주문력)는 마법 능력치를 뜻합니다."
   ],
   "metadata": {}
  },
  {
   "cell_type": "code",
   "execution_count": 5,
   "source": [
    "class Annie:\r\n",
    "    def __init__(self, health, mana, ability_power):\r\n",
    "        self.health = health\r\n",
    "        self.mana = mana\r\n",
    "        self.ability_power = ability_power\r\n",
    "    \r\n",
    "    def tibbers(self):\r\n",
    "        val = self.ability_power * 0.65 + 400\r\n",
    "        print(f'티버: 피해량 {val}')"
   ],
   "outputs": [],
   "metadata": {}
  },
  {
   "cell_type": "code",
   "execution_count": 6,
   "source": [
    "# 1803.68 1184.0 645\r\n",
    "health, mana, ability_power = map(float, input().split())\r\n",
    " \r\n",
    "x = Annie(health=health, mana=mana, ability_power=ability_power)\r\n",
    "x.tibbers()"
   ],
   "outputs": [
    {
     "output_type": "stream",
     "name": "stdout",
     "text": [
      "티버: 피해량 819.25\n"
     ]
    }
   ],
   "metadata": {}
  },
  {
   "cell_type": "markdown",
   "source": [
    "## u35\r\n",
    "표준 입력으로 시:분:초 형식의 시간이 입력됩니다. 다음 소스 코드에서 Time 클래스를 완성하여 시, 분, 초가 출력되게 만드세요. <br>from_string은 문자열로 인스턴스를 만드는 메서드이며 is_time_valid는 문자열이 올바른 시간인지 검사하는 메서드입니다. <br>시간은 24시까지, 분은 59분까지, 초는 60초까지 있어야 합니다. <br>정답에 코드를 작성할 때는 class Time:에 맞춰서 들여쓰기를 해주세요."
   ],
   "metadata": {}
  },
  {
   "cell_type": "code",
   "execution_count": 7,
   "source": [
    "class Time:\r\n",
    "    def __init__(self, hour, minute, second):\r\n",
    "        self.hour = hour\r\n",
    "        self.minute = minute\r\n",
    "        self.second = second\r\n",
    "\r\n",
    "    @staticmethod\r\n",
    "    def is_time_valid(time_string):\r\n",
    "        h, m, s = map(int, time_string.split(':'))\r\n",
    "        return 0<h<=24 and 0<=m<=59 and 0<s<=60\r\n",
    "\r\n",
    "    @classmethod\r\n",
    "    def from_string(cls, time_string):\r\n",
    "        h, m, s = map(int, time_string.split(':'))\r\n",
    "        t = cls(h,m,s)\r\n",
    "        return t"
   ],
   "outputs": [],
   "metadata": {}
  },
  {
   "cell_type": "code",
   "execution_count": 9,
   "source": [
    "time_string = input()\r\n",
    " \r\n",
    "if Time.is_time_valid(time_string):\r\n",
    "    t = Time.from_string(time_string)\r\n",
    "    print(t.hour, t.minute, t.second)\r\n",
    "else:\r\n",
    "    print('잘못된 시간 형식입니다.')"
   ],
   "outputs": [
    {
     "output_type": "stream",
     "name": "stdout",
     "text": [
      "잘못된 시간 형식입니다.\n"
     ]
    }
   ],
   "metadata": {}
  },
  {
   "cell_type": "markdown",
   "source": [
    "## u36\r\n",
    "다음 소스 코드에서 동물 클래스 Animal과 날개 클래스 Wing을 상속받아 새 클래스 Bird를 작성하여 <br>'먹다', '파닥거리다', '날다', True, True가 각 줄에 출력되게 만드세요."
   ],
   "metadata": {}
  },
  {
   "cell_type": "code",
   "execution_count": 10,
   "source": [
    "class Animal:\r\n",
    "    def eat(self):\r\n",
    "        print('먹다')\r\n",
    " \r\n",
    "class Wing:\r\n",
    "    def flap(self):\r\n",
    "        print('파닥거리다')\r\n",
    "\r\n",
    "class Bird(Animal, Wing):\r\n",
    "    def fly(self):\r\n",
    "        print('날다')"
   ],
   "outputs": [],
   "metadata": {}
  },
  {
   "cell_type": "code",
   "execution_count": 11,
   "source": [
    "b = Bird()\r\n",
    "b.eat()\r\n",
    "b.flap()\r\n",
    "b.fly()\r\n",
    "print(issubclass(Bird, Animal))\r\n",
    "print(issubclass(Bird, Wing))"
   ],
   "outputs": [
    {
     "output_type": "stream",
     "name": "stdout",
     "text": [
      "먹다\n",
      "파닥거리다\n",
      "날다\n",
      "True\n",
      "True\n"
     ]
    }
   ],
   "metadata": {}
  },
  {
   "cell_type": "code",
   "execution_count": null,
   "source": [],
   "outputs": [],
   "metadata": {}
  }
 ],
 "metadata": {
  "orig_nbformat": 4,
  "language_info": {
   "name": "python",
   "version": "3.8.10",
   "mimetype": "text/x-python",
   "codemirror_mode": {
    "name": "ipython",
    "version": 3
   },
   "pygments_lexer": "ipython3",
   "nbconvert_exporter": "python",
   "file_extension": ".py"
  },
  "kernelspec": {
   "name": "python3",
   "display_name": "Python 3.8.10 64-bit ('base': conda)"
  },
  "interpreter": {
   "hash": "1d2c35cbcf6c439fe4023d62c617fb10792e58220c81eb199d5fcf428c4dff3e"
  }
 },
 "nbformat": 4,
 "nbformat_minor": 2
}