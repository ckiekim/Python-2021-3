{
  "nbformat": 4,
  "nbformat_minor": 0,
  "metadata": {
    "colab": {
      "name": "u34_클래스.ipynb",
      "provenance": [],
      "collapsed_sections": []
    },
    "kernelspec": {
      "name": "python3",
      "display_name": "Python 3"
    },
    "language_info": {
      "name": "python"
    }
  },
  "cells": [
    {
      "cell_type": "markdown",
      "metadata": {
        "id": "hOqyl1pb64c6"
      },
      "source": [
        "# Unit 34. 클래스(Class)"
      ]
    },
    {
      "cell_type": "markdown",
      "metadata": {
        "id": "6kIcrgwH7VXK"
      },
      "source": [
        "## 34.1 클래스와 메서드 만들기"
      ]
    },
    {
      "cell_type": "code",
      "metadata": {
        "id": "wUY0__7u60Oo"
      },
      "source": [
        "class Person:           # 클래스 이름은 대문자로 시작\n",
        "    def greeting(self):\n",
        "        print('Hello')"
      ],
      "execution_count": 1,
      "outputs": []
    },
    {
      "cell_type": "code",
      "metadata": {
        "id": "ow2xfVq47yLx"
      },
      "source": [
        "# 인스턴스를 만들어야 클래스를 사용할 수 있다\n",
        "james = Person()\n",
        "maria = Person()"
      ],
      "execution_count": 2,
      "outputs": []
    },
    {
      "cell_type": "code",
      "metadata": {
        "colab": {
          "base_uri": "https://localhost:8080/"
        },
        "id": "O7yvqfDA8FBm",
        "outputId": "2f095e11-b4ca-4f4d-f364-00403c24d73d"
      },
      "source": [
        "james.greeting()"
      ],
      "execution_count": 3,
      "outputs": [
        {
          "output_type": "stream",
          "text": [
            "Hello\n"
          ],
          "name": "stdout"
        }
      ]
    },
    {
      "cell_type": "code",
      "metadata": {
        "colab": {
          "base_uri": "https://localhost:8080/"
        },
        "id": "jSU0ZEvD8Si6",
        "outputId": "341b2d1a-6b54-4ad3-9f1c-2cbf781b1af7"
      },
      "source": [
        "maria.greeting()"
      ],
      "execution_count": 4,
      "outputs": [
        {
          "output_type": "stream",
          "text": [
            "Hello\n"
          ],
          "name": "stdout"
        }
      ]
    },
    {
      "cell_type": "code",
      "metadata": {
        "colab": {
          "base_uri": "https://localhost:8080/"
        },
        "id": "59srY_f_8UyS",
        "outputId": "cbb1b083-fee1-442d-f7ea-95f8d9c219d6"
      },
      "source": [
        "Person().greeting()"
      ],
      "execution_count": 5,
      "outputs": [
        {
          "output_type": "stream",
          "text": [
            "Hello\n"
          ],
          "name": "stdout"
        }
      ]
    },
    {
      "cell_type": "code",
      "metadata": {
        "id": "6jUZ948O9lCz"
      },
      "source": [
        "# 클래스 내에서 메서드 호출하기\n",
        "class Person:\n",
        "    def greeting(self):\n",
        "        print('Hello')\n",
        "\n",
        "    def hello(self):\n",
        "        self.greeting()"
      ],
      "execution_count": 8,
      "outputs": []
    },
    {
      "cell_type": "code",
      "metadata": {
        "colab": {
          "base_uri": "https://localhost:8080/"
        },
        "id": "gdE2zkdz-PBj",
        "outputId": "7c238064-7486-4022-86e7-b9297163dc53"
      },
      "source": [
        "james = Person()\n",
        "james.hello()"
      ],
      "execution_count": 9,
      "outputs": [
        {
          "output_type": "stream",
          "text": [
            "Hello\n"
          ],
          "name": "stdout"
        }
      ]
    },
    {
      "cell_type": "code",
      "metadata": {
        "colab": {
          "base_uri": "https://localhost:8080/"
        },
        "id": "AMpFCB4Q-af9",
        "outputId": "2ad0e6dc-7eca-485f-ec6b-6d94510a62dc"
      },
      "source": [
        "isinstance(james, Person)"
      ],
      "execution_count": 10,
      "outputs": [
        {
          "output_type": "execute_result",
          "data": {
            "text/plain": [
              "True"
            ]
          },
          "metadata": {
            "tags": []
          },
          "execution_count": 10
        }
      ]
    },
    {
      "cell_type": "code",
      "metadata": {
        "id": "XorRmcP1-lUa"
      },
      "source": [
        "def factorial(n):\n",
        "    if not isinstance(n, int) or n < 0:\n",
        "        return None\n",
        "    if n == 0:\n",
        "        return 1\n",
        "    return n*factorial(n-1)"
      ],
      "execution_count": 12,
      "outputs": []
    },
    {
      "cell_type": "code",
      "metadata": {
        "id": "NVBW4JRz_F7D"
      },
      "source": [
        "factorial(3.14)"
      ],
      "execution_count": 13,
      "outputs": []
    },
    {
      "cell_type": "code",
      "metadata": {
        "colab": {
          "base_uri": "https://localhost:8080/"
        },
        "id": "1FaMupr8_Qxt",
        "outputId": "8c1381bc-ec8b-4617-930d-d17881eced8b"
      },
      "source": [
        "factorial(6)"
      ],
      "execution_count": 14,
      "outputs": [
        {
          "output_type": "execute_result",
          "data": {
            "text/plain": [
              "720"
            ]
          },
          "metadata": {
            "tags": []
          },
          "execution_count": 14
        }
      ]
    },
    {
      "cell_type": "markdown",
      "metadata": {
        "id": "sj4J6JRb_aIr"
      },
      "source": [
        "## 34.2 속성(Attribute)"
      ]
    },
    {
      "cell_type": "code",
      "metadata": {
        "id": "DLGRhMru_UdN"
      },
      "source": [
        "class Person:\n",
        "    def __init__(self):\n",
        "        self.hello = '안녕하세요'       # hello 속성을 갖게 됨\n",
        "\n",
        "    def greeting(self):\n",
        "        print(self.hello)"
      ],
      "execution_count": 15,
      "outputs": []
    },
    {
      "cell_type": "code",
      "metadata": {
        "colab": {
          "base_uri": "https://localhost:8080/"
        },
        "id": "KEZQ1Qw7_-Z0",
        "outputId": "3b830a88-dd00-4508-c94c-b7a39729ddc0"
      },
      "source": [
        "maria = Person()\n",
        "maria.greeting()"
      ],
      "execution_count": 16,
      "outputs": [
        {
          "output_type": "stream",
          "text": [
            "안녕하세요\n"
          ],
          "name": "stdout"
        }
      ]
    },
    {
      "cell_type": "code",
      "metadata": {
        "colab": {
          "base_uri": "https://localhost:8080/"
        },
        "id": "C1Bo3S7uAE2b",
        "outputId": "b05e09ef-88be-4f98-902d-044a51b219c9"
      },
      "source": [
        "maria.hello = 'How are you?'\n",
        "maria.greeting()"
      ],
      "execution_count": 17,
      "outputs": [
        {
          "output_type": "stream",
          "text": [
            "How are you?\n"
          ],
          "name": "stdout"
        }
      ]
    },
    {
      "cell_type": "code",
      "metadata": {
        "id": "Iz0fiBsHAoVz"
      },
      "source": [
        "class Person:\n",
        "    def __init__(self, hello):      # Constructor\n",
        "        self.hello = hello\n",
        "\n",
        "    def greeting(self):\n",
        "        print(self.hello)"
      ],
      "execution_count": 18,
      "outputs": []
    },
    {
      "cell_type": "code",
      "metadata": {
        "id": "Py-5AN1rBqLF"
      },
      "source": [
        "james = Person('안녕하세요?')\n",
        "maria = Person('How are you?')"
      ],
      "execution_count": 19,
      "outputs": []
    },
    {
      "cell_type": "code",
      "metadata": {
        "colab": {
          "base_uri": "https://localhost:8080/"
        },
        "id": "s1qIaf4gB106",
        "outputId": "4f3f4a91-16a4-430a-f5fe-e573943db2c0"
      },
      "source": [
        "james.greeting()\n",
        "maria.greeting()"
      ],
      "execution_count": 20,
      "outputs": [
        {
          "output_type": "stream",
          "text": [
            "안녕하세요?\n",
            "How are you?\n"
          ],
          "name": "stdout"
        }
      ]
    },
    {
      "cell_type": "code",
      "metadata": {
        "id": "r0ZUAtxXB5ta"
      },
      "source": [
        "class Person:\n",
        "    def __init__(self, name, age, addr):    \n",
        "        self.hello = '안녕하세요?'\n",
        "        self.name = name\n",
        "        self.age = age\n",
        "        self.addr = addr\n",
        "\n",
        "    def greeting(self):\n",
        "        print(f'{self.hello} 저는 {self.name}입니다.')\n",
        "\n",
        "    # JAVA의 toString() method\n",
        "    def __str__(self):\n",
        "        return f'hello: {self.hello}, name: {self.name}, age: {self.age}, addr: {self.addr}'"
      ],
      "execution_count": 26,
      "outputs": []
    },
    {
      "cell_type": "code",
      "metadata": {
        "colab": {
          "base_uri": "https://localhost:8080/"
        },
        "id": "6GwVXC0-C-zN",
        "outputId": "301e4f10-19c1-4bf5-ca8c-2591128c528d"
      },
      "source": [
        "maria = Person('마리아', 23, '서울시 강남구 도곡동')\n",
        "maria.greeting()"
      ],
      "execution_count": 27,
      "outputs": [
        {
          "output_type": "stream",
          "text": [
            "안녕하세요? 저는 마리아입니다.\n"
          ],
          "name": "stdout"
        }
      ]
    },
    {
      "cell_type": "code",
      "metadata": {
        "colab": {
          "base_uri": "https://localhost:8080/"
        },
        "id": "idQ27YNKDKj_",
        "outputId": "913ba81a-7f50-481f-8644-fc454d1d4295"
      },
      "source": [
        "print(maria)"
      ],
      "execution_count": 28,
      "outputs": [
        {
          "output_type": "stream",
          "text": [
            "hello: 안녕하세요?, name: 마리아, age: 23, addr: 서울시 강남구 도곡동\n"
          ],
          "name": "stdout"
        }
      ]
    },
    {
      "cell_type": "markdown",
      "metadata": {
        "id": "VKe7kTPuVwLK"
      },
      "source": [
        "## 34.3 비공개 속성"
      ]
    },
    {
      "cell_type": "code",
      "metadata": {
        "colab": {
          "base_uri": "https://localhost:8080/"
        },
        "id": "JUL10LpUUqIu",
        "outputId": "44c669ab-6fcb-4084-d9b2-bc33e0866224"
      },
      "source": [
        "maria.age = 30\n",
        "print(maria)"
      ],
      "execution_count": 29,
      "outputs": [
        {
          "output_type": "stream",
          "text": [
            "hello: 안녕하세요?, name: 마리아, age: 30, addr: 서울시 강남구 도곡동\n"
          ],
          "name": "stdout"
        }
      ]
    },
    {
      "cell_type": "code",
      "metadata": {
        "id": "158p9Vo5V_WE"
      },
      "source": [
        "class Person:\n",
        "    def __init__(self, name, age, addr, wallet):    \n",
        "        self.name = name\n",
        "        self.age = age\n",
        "        self.addr = addr\n",
        "        self.__wallet = wallet      # __wallet 속성은 비공개\n",
        "\n",
        "    def greeting(self):\n",
        "        print(f'안녕하세요? 저는 {self.name}입니다.')\n",
        "\n",
        "    def pay(self, amount):\n",
        "        if self.__wallet - amount < 0:\n",
        "            print('지갑에 돈이 부족합니다.')\n",
        "            return\n",
        "        self.__wallet -= amount\n",
        "        print(f'지갑에 남은 돈은 {self.__wallet}입니다.')\n",
        "\n",
        "    # JAVA의 toString() method\n",
        "    def __str__(self):\n",
        "        return f'name: {self.name}, age: {self.age}, addr: {self.addr}, wallet: {self.__wallet}'"
      ],
      "execution_count": 39,
      "outputs": []
    },
    {
      "cell_type": "code",
      "metadata": {
        "colab": {
          "base_uri": "https://localhost:8080/"
        },
        "id": "K150oYViWqVh",
        "outputId": "23316f6f-70ab-4723-e4d8-cb30bb094d80"
      },
      "source": [
        "james = Person('제임스', 27, '서울 강남구 역삼동', 10000)\n",
        "james.greeting()"
      ],
      "execution_count": 40,
      "outputs": [
        {
          "output_type": "stream",
          "text": [
            "안녕하세요? 저는 제임스입니다.\n"
          ],
          "name": "stdout"
        }
      ]
    },
    {
      "cell_type": "code",
      "metadata": {
        "colab": {
          "base_uri": "https://localhost:8080/"
        },
        "id": "yaYc-_riW9nO",
        "outputId": "fb462a7c-0ed1-4bc2-c1eb-ef82e3066c3c"
      },
      "source": [
        "print(james)"
      ],
      "execution_count": 41,
      "outputs": [
        {
          "output_type": "stream",
          "text": [
            "name: 제임스, age: 27, addr: 서울 강남구 역삼동, wallet: 10000\n"
          ],
          "name": "stdout"
        }
      ]
    },
    {
      "cell_type": "code",
      "metadata": {
        "id": "pZ-kl14yXBTm"
      },
      "source": [
        "# __wallet은 비공개 속성이므로 클래스 바깥에서는 변경할 수 없음\n",
        "james.__wallet = 1000000"
      ],
      "execution_count": 42,
      "outputs": []
    },
    {
      "cell_type": "code",
      "metadata": {
        "colab": {
          "base_uri": "https://localhost:8080/"
        },
        "id": "OdNvD_fiXHGg",
        "outputId": "ecf7c8cf-a980-44b3-e49f-44423ec6b8a3"
      },
      "source": [
        "print(james)"
      ],
      "execution_count": 43,
      "outputs": [
        {
          "output_type": "stream",
          "text": [
            "name: 제임스, age: 27, addr: 서울 강남구 역삼동, wallet: 10000\n"
          ],
          "name": "stdout"
        }
      ]
    },
    {
      "cell_type": "code",
      "metadata": {
        "colab": {
          "base_uri": "https://localhost:8080/"
        },
        "id": "XRoFO3VoXRTy",
        "outputId": "d5449617-725b-4672-d1f9-f38aa4175ed6"
      },
      "source": [
        "james.pay(5000)"
      ],
      "execution_count": 44,
      "outputs": [
        {
          "output_type": "stream",
          "text": [
            "지갑에 남은 돈은 5000입니다.\n"
          ],
          "name": "stdout"
        }
      ]
    },
    {
      "cell_type": "code",
      "metadata": {
        "colab": {
          "base_uri": "https://localhost:8080/"
        },
        "id": "ZlIKwv_dYPXt",
        "outputId": "a1ab083c-503e-4a13-90f1-cda88634c162"
      },
      "source": [
        "print(james)"
      ],
      "execution_count": 45,
      "outputs": [
        {
          "output_type": "stream",
          "text": [
            "name: 제임스, age: 27, addr: 서울 강남구 역삼동, wallet: 5000\n"
          ],
          "name": "stdout"
        }
      ]
    },
    {
      "cell_type": "code",
      "metadata": {
        "colab": {
          "base_uri": "https://localhost:8080/"
        },
        "id": "4XkMHj6cYS4J",
        "outputId": "3421ae51-4b8b-40ca-f2fc-6624ea4511f1"
      },
      "source": [
        "james.pay(10000)"
      ],
      "execution_count": 46,
      "outputs": [
        {
          "output_type": "stream",
          "text": [
            "지갑에 돈이 부족합니다.\n"
          ],
          "name": "stdout"
        }
      ]
    },
    {
      "cell_type": "code",
      "metadata": {
        "colab": {
          "base_uri": "https://localhost:8080/"
        },
        "id": "zCWg3disYW4v",
        "outputId": "c5ec34cb-5446-447c-8462-ff34161c90ce"
      },
      "source": [
        "print(james)"
      ],
      "execution_count": 47,
      "outputs": [
        {
          "output_type": "stream",
          "text": [
            "name: 제임스, age: 27, addr: 서울 강남구 역삼동, wallet: 5000\n"
          ],
          "name": "stdout"
        }
      ]
    },
    {
      "cell_type": "markdown",
      "metadata": {
        "id": "9RV94f5vaeL_"
      },
      "source": [
        "## Account 클래스 만들기\n",
        "### 속성\n",
        "- ano: 문자열 6글자, '123456'\n",
        "- owner: 문자열\n",
        "- balance: 잔액, 비공개 속성\n",
        "### Method\n",
        "- 생성자\n",
        "- deposit(amount)\t잔액이 1000만원 이상이면 입금할 수 없음\n",
        "- withdraw(amount)\t잔액이 0원 미만이면 출금할 수 없음\n",
        "- 출력 가능하게"
      ]
    },
    {
      "cell_type": "code",
      "metadata": {
        "id": "E_VIgk3kYZBv"
      },
      "source": [
        "class Account:\n",
        "    def __init__(self, ano, owner, balance):\n",
        "        self.ano = ano\n",
        "        self.owner = owner\n",
        "        self.__balance = balance\n",
        "\n",
        "    def deposit(self, amount):\n",
        "        if amount + self.__balance >= 10000000:\n",
        "            print('천만원 이상은 잔액으로 가져갈 수 없습니다.')\n",
        "            return\n",
        "        self.__balance += amount\n",
        "\n",
        "    def withdraw(self, amount):\n",
        "        if self.__balance - amount < 0:\n",
        "            print('잔액이 부족합니다.')\n",
        "            return\n",
        "        self.__balance -= amount\n",
        "\n",
        "    def __str__(self):\n",
        "        return f'계좌번호: {self.ano}, 소유주: {self.owner}, 잔액: {self.__balance:9,d}'"
      ],
      "execution_count": 1,
      "outputs": []
    },
    {
      "cell_type": "code",
      "metadata": {
        "colab": {
          "base_uri": "https://localhost:8080/"
        },
        "id": "-GCvqEzgeBZ-",
        "outputId": "45f20556-7c1e-4dfb-b8e5-08a26dd107f5"
      },
      "source": [
        "acc = Account('123456', '제임스', 100000)\n",
        "print(acc)"
      ],
      "execution_count": 2,
      "outputs": [
        {
          "output_type": "stream",
          "text": [
            "계좌번호: 123456, 소유주: 제임스, 잔액:   100,000\n"
          ],
          "name": "stdout"
        }
      ]
    },
    {
      "cell_type": "code",
      "metadata": {
        "colab": {
          "base_uri": "https://localhost:8080/"
        },
        "id": "mEWrhxs_eO9D",
        "outputId": "a41e35d8-10de-496e-a3bf-0bc38c2d8181"
      },
      "source": [
        "acc.deposit(3000000)\n",
        "print(acc)"
      ],
      "execution_count": 3,
      "outputs": [
        {
          "output_type": "stream",
          "text": [
            "계좌번호: 123456, 소유주: 제임스, 잔액: 3,100,000\n"
          ],
          "name": "stdout"
        }
      ]
    },
    {
      "cell_type": "code",
      "metadata": {
        "colab": {
          "base_uri": "https://localhost:8080/"
        },
        "id": "lvB28R5DeXry",
        "outputId": "32bc0afc-39dc-48f3-9bad-62009dacba66"
      },
      "source": [
        "acc.deposit(7000000)\n",
        "print(acc)"
      ],
      "execution_count": 4,
      "outputs": [
        {
          "output_type": "stream",
          "text": [
            "천만원 이상은 잔액으로 가져갈 수 없습니다.\n",
            "계좌번호: 123456, 소유주: 제임스, 잔액: 3,100,000\n"
          ],
          "name": "stdout"
        }
      ]
    },
    {
      "cell_type": "code",
      "metadata": {
        "colab": {
          "base_uri": "https://localhost:8080/"
        },
        "id": "XT5ZsNhqeeeM",
        "outputId": "3d01128c-fac9-484f-f72a-dd224460d98b"
      },
      "source": [
        "acc.withdraw(2000000)\n",
        "print(acc)"
      ],
      "execution_count": 5,
      "outputs": [
        {
          "output_type": "stream",
          "text": [
            "계좌번호: 123456, 소유주: 제임스, 잔액: 1,100,000\n"
          ],
          "name": "stdout"
        }
      ]
    },
    {
      "cell_type": "code",
      "metadata": {
        "colab": {
          "base_uri": "https://localhost:8080/"
        },
        "id": "2xjk41jYemGO",
        "outputId": "54aaf75d-2925-4e65-85c3-06a1da73c65a"
      },
      "source": [
        "acc.withdraw(2000000)\n",
        "print(acc)"
      ],
      "execution_count": 6,
      "outputs": [
        {
          "output_type": "stream",
          "text": [
            "잔액이 부족합니다.\n",
            "계좌번호: 123456, 소유주: 제임스, 잔액: 1,100,000\n"
          ],
          "name": "stdout"
        }
      ]
    },
    {
      "cell_type": "code",
      "metadata": {
        "colab": {
          "base_uri": "https://localhost:8080/"
        },
        "id": "XLZR_Q6mepb7",
        "outputId": "cc5dbd4a-a7b9-4a79-84a3-61710a7d1e1a"
      },
      "source": [
        "acc2 = Account('987432', '마리아', 3000000)\n",
        "print(acc2)"
      ],
      "execution_count": 7,
      "outputs": [
        {
          "output_type": "stream",
          "text": [
            "계좌번호: 987432, 소유주: 마리아, 잔액: 3,000,000\n"
          ],
          "name": "stdout"
        }
      ]
    },
    {
      "cell_type": "code",
      "metadata": {
        "id": "ALW0B4See_fp"
      },
      "source": [
        "acc_list = [acc, acc2]"
      ],
      "execution_count": 8,
      "outputs": []
    },
    {
      "cell_type": "code",
      "metadata": {
        "colab": {
          "base_uri": "https://localhost:8080/"
        },
        "id": "2v5CXAa8fPnD",
        "outputId": "6fc0916b-50a3-4cac-bfa3-22e09887bab7"
      },
      "source": [
        "for account in acc_list:\n",
        "    print(account)"
      ],
      "execution_count": 9,
      "outputs": [
        {
          "output_type": "stream",
          "text": [
            "계좌번호: 123456, 소유주: 제임스, 잔액: 1,100,000\n",
            "계좌번호: 987432, 소유주: 마리아, 잔액: 3,000,000\n"
          ],
          "name": "stdout"
        }
      ]
    },
    {
      "cell_type": "markdown",
      "metadata": {
        "id": "0yfzEnUkfp1Y"
      },
      "source": [
        "### 1:계좌생성, 2:계좌목록, 3:입금, 4:출금, 5:종료"
      ]
    },
    {
      "cell_type": "code",
      "metadata": {
        "id": "Hr6sIcT6j5aI"
      },
      "source": [
        "# 사용자로부터 필요한 정보를 입력 받아서 계좌를 생성함\n",
        "def create_account():\n",
        "    s = input('계좌번호 성명 금액> ').split()\n",
        "    ano, owner = s[0], s[1]\n",
        "    amount = int(s[2])\n",
        "    acc = Account(ano, owner, amount)\n",
        "    acc_list.append(acc)"
      ],
      "execution_count": 10,
      "outputs": []
    },
    {
      "cell_type": "code",
      "metadata": {
        "id": "uraWrQzYj-pS"
      },
      "source": [
        "# 사용자로부터 필요한 정보를 입력 받아서 계좌에 돈을 입금함\n",
        "def deposit_account():\n",
        "    s = input('계좌번호 금액> ').split()\n",
        "    ano, amount = s[0], int(s[1])\n",
        "    for acc in acc_list:\n",
        "        if acc.ano == ano:\n",
        "            acc.deposit(amount)\n",
        "            return"
      ],
      "execution_count": 11,
      "outputs": []
    },
    {
      "cell_type": "code",
      "metadata": {
        "id": "P1mrakvUkFXB"
      },
      "source": [
        "# 사용자로부터 필요한 정보를 입력 받아서 계좌에서 돈을 출금함\n",
        "def withdraw_account():\n",
        "    s = input('계좌번호 금액> ').split()\n",
        "    ano, amount = s[0], int(s[1])\n",
        "    for acc in acc_list:\n",
        "        if acc.ano == ano:\n",
        "            acc.withdraw(amount)\n",
        "            return"
      ],
      "execution_count": 12,
      "outputs": []
    },
    {
      "cell_type": "code",
      "metadata": {
        "colab": {
          "base_uri": "https://localhost:8080/"
        },
        "id": "LIRWLM7_fXNO",
        "outputId": "9790b1af-87cc-4abd-b0f2-2d5959beae4d"
      },
      "source": [
        "while True:\n",
        "    menu = int(input('1:계좌생성, 2:계좌목록, 3:입금, 4:출금, 5:종료> '))\n",
        "    if menu == 5:\n",
        "        break\n",
        "    if menu == 1:\n",
        "        create_account()\n",
        "    elif menu == 2:\n",
        "        for account in acc_list:\n",
        "            print(account)\n",
        "    elif menu == 3:\n",
        "        deposit_account()\n",
        "    elif menu == 4:\n",
        "        withdraw_account()\n",
        "    else:\n",
        "        print('잘못된 명령어입니다.')\n",
        "\n",
        "    print()"
      ],
      "execution_count": 13,
      "outputs": [
        {
          "output_type": "stream",
          "text": [
            "1:계좌생성, 2:계좌목록, 3:입금, 4:출금, 5:종료> 2\n",
            "계좌번호: 123456, 소유주: 제임스, 잔액: 1,100,000\n",
            "계좌번호: 987432, 소유주: 마리아, 잔액: 3,000,000\n",
            "\n",
            "1:계좌생성, 2:계좌목록, 3:입금, 4:출금, 5:종료> 4\n",
            "계좌번호 금액> 987432 330000\n",
            "\n",
            "1:계좌생성, 2:계좌목록, 3:입금, 4:출금, 5:종료> 2\n",
            "계좌번호: 123456, 소유주: 제임스, 잔액: 1,100,000\n",
            "계좌번호: 987432, 소유주: 마리아, 잔액: 2,670,000\n",
            "\n",
            "1:계좌생성, 2:계좌목록, 3:입금, 4:출금, 5:종료> 4\n",
            "계좌번호 금액> 123456 200000\n",
            "\n",
            "1:계좌생성, 2:계좌목록, 3:입금, 4:출금, 5:종료> 2\n",
            "계좌번호: 123456, 소유주: 제임스, 잔액:   900,000\n",
            "계좌번호: 987432, 소유주: 마리아, 잔액: 2,670,000\n",
            "\n",
            "1:계좌생성, 2:계좌목록, 3:입금, 4:출금, 5:종료> 4\n",
            "계좌번호 금액> 123456 1000000\n",
            "잔액이 부족합니다.\n",
            "\n",
            "1:계좌생성, 2:계좌목록, 3:입금, 4:출금, 5:종료> 2\n",
            "계좌번호: 123456, 소유주: 제임스, 잔액:   900,000\n",
            "계좌번호: 987432, 소유주: 마리아, 잔액: 2,670,000\n",
            "\n",
            "1:계좌생성, 2:계좌목록, 3:입금, 4:출금, 5:종료> 5\n"
          ],
          "name": "stdout"
        }
      ]
    },
    {
      "cell_type": "code",
      "metadata": {
        "id": "Zv4TbBafpCb2"
      },
      "source": [
        ""
      ],
      "execution_count": null,
      "outputs": []
    }
  ]
}