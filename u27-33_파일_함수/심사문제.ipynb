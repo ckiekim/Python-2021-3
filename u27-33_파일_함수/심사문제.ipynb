{
 "cells": [
  {
   "cell_type": "markdown",
   "source": [
    "## u27\r\n",
    "문자열이 저장된 words.txt 파일이 주어집니다(문자열은 한 줄로 저장되어 있습니다). <br>words.txt 파일에서 문자 c가 포함된 단어를 각 줄에 출력하는 프로그램을 만드세요. <br>단어를 출력할 때는 등장한 순서대로 출력해야 하며 ,(콤마)와 .(점)은 출력하지 않아야 합니다."
   ],
   "metadata": {}
  },
  {
   "cell_type": "code",
   "execution_count": 12,
   "source": [
    "with open('words.txt') as file:\r\n",
    "    words = file.read()\r\n",
    "\r\n",
    "for word in words.split():\r\n",
    "    word = word.strip(',.')\r\n",
    "    if 'c' in word:\r\n",
    "        print(word)"
   ],
   "outputs": [
    {
     "output_type": "stream",
     "name": "stdout",
     "text": [
      "dictator\n",
      "subjects\n",
      "change\n",
      "costume\n",
      "elegance\n",
      "accepted\n"
     ]
    }
   ],
   "metadata": {}
  },
  {
   "cell_type": "markdown",
   "source": [
    "## u29\r\n",
    "표준 입력으로 숫자 두 개가 입력됩니다. 다음 소스 코드를 완성하여 두 숫자의 덧셈, 뺄셈, 곱셈, 나눗셈의 결과가 출력되게 만드세요. <br>이때 나눗셈의 결과는 실수라야 합니다."
   ],
   "metadata": {}
  },
  {
   "cell_type": "code",
   "execution_count": 13,
   "source": [
    "x, y = map(int, input().split())\r\n",
    "\r\n",
    "def calc(x, y):\r\n",
    "    return x+y, x-y, x*y, float(x/y)\r\n",
    "\r\n",
    "a, s, m, d = calc(x, y)\r\n",
    "print(f'덧셈: {a}, 뺄셈: {s}, 곱셈: {m}, 나눗셈: {d}')"
   ],
   "outputs": [
    {
     "output_type": "stream",
     "name": "stdout",
     "text": [
      "덧셈: 15, 뺄셈: 5, 곱셈: 50, 나눗셈: 2.0\n"
     ]
    }
   ],
   "metadata": {}
  },
  {
   "cell_type": "markdown",
   "source": [
    "## u30\r\n",
    "표준 입력으로 국어, 영어, 수학, 과학 점수가 입력됩니다. <br>다음 소스 코드를 완성하여 가장 높은 점수, 가장 낮은 점수, 평균 점수가 출력되게 만드세요. <br>평균 점수는 실수로 출력되어야 합니다."
   ],
   "metadata": {}
  },
  {
   "cell_type": "code",
   "execution_count": 14,
   "source": [
    "# 76 82 89 84\r\n",
    "korean, english, mathematics, science = map(int, input().split())"
   ],
   "outputs": [],
   "metadata": {}
  },
  {
   "cell_type": "code",
   "execution_count": 19,
   "source": [
    "def get_min_max_score(*args):\r\n",
    "    return min(args), max(args)\r\n",
    "\r\n",
    "def get_average(**kwargs):\r\n",
    "    return sum(kwargs.values()) / len(kwargs)"
   ],
   "outputs": [],
   "metadata": {}
  },
  {
   "cell_type": "code",
   "execution_count": 20,
   "source": [
    "min_score, max_score = get_min_max_score(korean, english, mathematics, science)\r\n",
    "average_score = get_average(korean=korean, english=english,\r\n",
    "                            mathematics=mathematics, science=science)\r\n",
    "print('낮은 점수: {0:.2f}, 높은 점수: {1:.2f}, 평균 점수: {2:.2f}'\r\n",
    "      .format(min_score, max_score, average_score))\r\n",
    " \r\n",
    "min_score, max_score = get_min_max_score(english, science)\r\n",
    "average_score = get_average(english=english, science=science)\r\n",
    "print('낮은 점수: {0:.2f}, 높은 점수: {1:.2f}, 평균 점수: {2:.2f}'\r\n",
    "      .format(min_score, max_score, average_score))"
   ],
   "outputs": [
    {
     "output_type": "stream",
     "name": "stdout",
     "text": [
      "낮은 점수: 76.00, 높은 점수: 89.00, 평균 점수: 82.75\n",
      "낮은 점수: 82.00, 높은 점수: 84.00, 평균 점수: 83.00\n"
     ]
    }
   ],
   "metadata": {}
  },
  {
   "cell_type": "code",
   "execution_count": null,
   "source": [],
   "outputs": [],
   "metadata": {}
  }
 ],
 "metadata": {
  "orig_nbformat": 4,
  "language_info": {
   "name": "python",
   "version": "3.8.10",
   "mimetype": "text/x-python",
   "codemirror_mode": {
    "name": "ipython",
    "version": 3
   },
   "pygments_lexer": "ipython3",
   "nbconvert_exporter": "python",
   "file_extension": ".py"
  },
  "kernelspec": {
   "name": "python3",
   "display_name": "Python 3.8.10 64-bit ('base': conda)"
  },
  "interpreter": {
   "hash": "1d2c35cbcf6c439fe4023d62c617fb10792e58220c81eb199d5fcf428c4dff3e"
  }
 },
 "nbformat": 4,
 "nbformat_minor": 2
}