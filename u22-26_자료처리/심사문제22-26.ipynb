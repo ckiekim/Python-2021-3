{
 "cells": [
  {
   "cell_type": "markdown",
   "source": [
    "# 심사문제"
   ],
   "metadata": {}
  },
  {
   "cell_type": "markdown",
   "source": [
    "### u22\r\n",
    "표준 입력으로 정수 두 개가 입력됩니다(첫 번째 입력 값의 범위는 1~20, 두 번째 입력 값의 범위는 10~30이며 첫 번째 입력 값은 두 번째 입력 값보다 항상 작습니다). <br>첫 번째 정수부터 두 번째 정수까지를 지수로 하는 2의 거듭제곱 리스트를 출력하는 프로그램을 만드세요(input에서 안내 문자열은 출력하지 않아야 합니다). <br>단, 리스트의 두 번째 요소와 뒤에서 두 번째 요소는 삭제한 뒤 출력하세요. 출력 결과는 리스트 형태라야 합니다."
   ],
   "metadata": {}
  },
  {
   "cell_type": "code",
   "execution_count": 4,
   "source": [
    "a, b = map(int, input().split())\r\n",
    "square = [2 ** i for i in range(a, b+1)]\r\n",
    "del square[-2]\r\n",
    "del square[1]\r\n",
    "square"
   ],
   "outputs": [
    {
     "output_type": "execute_result",
     "data": {
      "text/plain": [
       "[1024, 4096, 8192, 16384, 32768, 65536, 131072, 262144, 1048576]"
      ]
     },
     "metadata": {},
     "execution_count": 4
    }
   ],
   "metadata": {}
  },
  {
   "cell_type": "markdown",
   "source": [
    "### u23 지뢰찾기\r\n"
   ],
   "metadata": {}
  },
  {
   "cell_type": "code",
   "execution_count": 12,
   "source": [
    "import random\r\n",
    "mines = []\r\n",
    "N = 9\r\n",
    "for _ in range(N):\r\n",
    "    row = ''\r\n",
    "    for _ in range(N):\r\n",
    "        if random.random() > 0.6:\r\n",
    "            row += '*'\r\n",
    "        else:\r\n",
    "            row += '.'\r\n",
    "    mines.append(row)"
   ],
   "outputs": [],
   "metadata": {}
  },
  {
   "cell_type": "code",
   "execution_count": 13,
   "source": [
    "mines = [['*' if random.random()>0.6 else '.' for _ in range(N)] for _ in range(N)]\r\n",
    "for i in range(len(mines)):\r\n",
    "    for k in range(len(mines)):\r\n",
    "        print(mines[i][k], end=' ')\r\n",
    "    print()"
   ],
   "outputs": [
    {
     "output_type": "stream",
     "name": "stdout",
     "text": [
      "* . . . * . * * * \n",
      ". . . . . * * . . \n",
      ". * . * . * . . * \n",
      ". * . . . . * . * \n",
      "* * . * . . * . . \n",
      "* . * . . . . . . \n",
      ". . * . * * * . . \n",
      "* . * . * . . . * \n",
      ". * . . * * . . . \n"
     ]
    }
   ],
   "metadata": {}
  },
  {
   "cell_type": "code",
   "execution_count": 14,
   "source": [
    "def print_mines(mat):\r\n",
    "    for i in range(len(mat)):\r\n",
    "        for k in range(len(mat)):\r\n",
    "            print(mat[i][k], end=' ')\r\n",
    "        print()\r\n",
    "\r\n",
    "print_mines(mines)"
   ],
   "outputs": [
    {
     "output_type": "stream",
     "name": "stdout",
     "text": [
      "* . . . * . * * * \n",
      ". . . . . * * . . \n",
      ". * . * . * . . * \n",
      ". * . . . . * . * \n",
      "* * . * . . * . . \n",
      "* . * . . . . . . \n",
      ". . * . * * * . . \n",
      "* . * . * . . . * \n",
      ". * . . * * . . . \n"
     ]
    }
   ],
   "metadata": {}
  },
  {
   "cell_type": "code",
   "execution_count": 15,
   "source": [
    "pad_mines = []\r\n",
    "pad_mines.append('.' * (N+2))\r\n",
    "for i in range(N):\r\n",
    "    row = '.'\r\n",
    "    for k in range(N):\r\n",
    "        row += mines[i][k]\r\n",
    "    row += '.'\r\n",
    "    pad_mines.append(row)\r\n",
    "pad_mines.append('.' * (N+2))\r\n",
    "\r\n",
    "print_mines(pad_mines)"
   ],
   "outputs": [
    {
     "output_type": "stream",
     "name": "stdout",
     "text": [
      ". . . . . . . . . . . \n",
      ". * . . . * . * * * . \n",
      ". . . . . . * * . . . \n",
      ". . * . * . * . . * . \n",
      ". . * . . . . * . * . \n",
      ". * * . * . . * . . . \n",
      ". * . * . . . . . . . \n",
      ". . . * . * * * . . . \n",
      ". * . * . * . . . * . \n",
      ". . * . . * * . . . . \n",
      ". . . . . . . . . . . \n"
     ]
    }
   ],
   "metadata": {}
  },
  {
   "cell_type": "code",
   "execution_count": 16,
   "source": [
    "final_mines = []\r\n",
    "for i in range(1, N+1):\r\n",
    "    row = ''\r\n",
    "    for k in range(1, N+1):\r\n",
    "        if pad_mines[i][k] == '*':\r\n",
    "            row += '*'\r\n",
    "        else:\r\n",
    "            count = (pad_mines[i-1][k-1]=='*') + (pad_mines[i-1][k]=='*') + \\\r\n",
    "                    (pad_mines[i-1][k+1]=='*') + (pad_mines[i][k-1]=='*') + \\\r\n",
    "                    (pad_mines[i][k+1]=='*') + (pad_mines[i+1][k-1]=='*') + \\\r\n",
    "                    (pad_mines[i+1][k]=='*') + (pad_mines[i+1][k+1]=='*')\r\n",
    "            row += str(count)\r\n",
    "    final_mines.append(row)\r\n",
    "\r\n",
    "print_mines(final_mines)"
   ],
   "outputs": [
    {
     "output_type": "stream",
     "name": "stdout",
     "text": [
      "* 1 0 1 * 4 * * * \n",
      "2 2 2 2 4 * * 5 3 \n",
      "2 * 3 * 3 * 4 4 * \n",
      "4 * 5 2 3 3 * 4 * \n",
      "* * 4 * 1 2 * 3 1 \n",
      "* 5 * 4 3 4 3 2 0 \n",
      "2 5 * 5 * * * 2 1 \n",
      "* 4 * 5 * 6 3 2 * \n",
      "2 * 2 3 * * 1 1 1 \n"
     ]
    }
   ],
   "metadata": {}
  },
  {
   "cell_type": "markdown",
   "source": [
    "### u24-5 특정 단어 개수 세기\r\n",
    "표준 입력으로 문자열이 입력됩니다. 입력된 문자열에서 'the'의 개수를 출력하는 프로그램을 만드세요. <br>단, 모든 문자가 소문자인 'the'만 찾으면 되며 'them', 'there', 'their' 등은 포함하지 않아야 합니다."
   ],
   "metadata": {}
  },
  {
   "cell_type": "code",
   "execution_count": 24,
   "source": [
    "text = \"\"\"\r\n",
    "the grown-ups' response, this time, was to advise me to lay aside my drawings of boa constrictors, \r\n",
    "whether from the inside or the outside, and devote myself instead to geography, history, arithmetic, \r\n",
    "and grammar. That is why, at the, age of six, I gave up what might have been a magnificent career \r\n",
    "as a painter. I had been disheartened by the failure of my Drawing Number One and my Drawing Number Two. \r\n",
    "Grown-ups never understand anything by themselves, and it is tiresome for children to be always and \r\n",
    "forever explaining things to the.\r\n",
    "\"\"\"\r\n",
    "text.count('the') "
   ],
   "outputs": [
    {
     "output_type": "execute_result",
     "data": {
      "text/plain": [
       "8"
      ]
     },
     "metadata": {},
     "execution_count": 24
    }
   ],
   "metadata": {}
  },
  {
   "cell_type": "code",
   "execution_count": 23,
   "source": [
    "import re\r\n",
    "text = re.sub('[\\'-.,\\n]', '', text)\r\n",
    "text"
   ],
   "outputs": [
    {
     "output_type": "execute_result",
     "data": {
      "text/plain": [
       "'the grownups response this time was to advise me to lay aside my drawings of boa constrictors whether from the inside or the outside and devote myself instead to geography history arithmetic and grammar That is why at the age of six I gave up what might have been a magnificent career as a painter I had been disheartened by the failure of my Drawing Number One and my Drawing Number Two Grownups never understand anything by themselves and it is tiresome for children to be always and forever explaining things to the'"
      ]
     },
     "metadata": {},
     "execution_count": 23
    }
   ],
   "metadata": {}
  },
  {
   "cell_type": "code",
   "execution_count": 25,
   "source": [
    "text = re.sub('[^A-Za-z ]', '', text)\r\n",
    "text"
   ],
   "outputs": [
    {
     "output_type": "execute_result",
     "data": {
      "text/plain": [
       "'the grownups response this time was to advise me to lay aside my drawings of boa constrictors whether from the inside or the outside and devote myself instead to geography history arithmetic and grammar That is why at the age of six I gave up what might have been a magnificent career as a painter I had been disheartened by the failure of my Drawing Number One and my Drawing Number Two Grownups never understand anything by themselves and it is tiresome for children to be always and forever explaining things to the'"
      ]
     },
     "metadata": {},
     "execution_count": 25
    }
   ],
   "metadata": {}
  },
  {
   "cell_type": "code",
   "execution_count": 26,
   "source": [
    "text_list = text.lower().strip().split()\r\n",
    "count = 0\r\n",
    "for word in text_list:\r\n",
    "    if word == 'the':\r\n",
    "        count += 1\r\n",
    "count"
   ],
   "outputs": [
    {
     "output_type": "execute_result",
     "data": {
      "text/plain": [
       "6"
      ]
     },
     "metadata": {},
     "execution_count": 26
    }
   ],
   "metadata": {}
  },
  {
   "cell_type": "markdown",
   "source": [
    "### u24-6\r\n",
    "표준 입력으로 물품 가격 여러 개가 문자열 한 줄로 입력되고, 각 가격은 ;(세미콜론)으로 구분되어 있습니다. <br>입력된 가격을 높은 가격순으로 출력하는 프로그램을 만드세요(input에서 안내 문자열은 출력하지 않아야 합니다). <br>이때 가격은 길이를 9로 만든 뒤 오른쪽으로 정렬하고 천단위로 ,(콤마)를 넣으세요."
   ],
   "metadata": {}
  },
  {
   "cell_type": "code",
   "execution_count": 27,
   "source": [
    "input_str = '51900;83000;158000;367500;250000;59200;128500;1304000'\r\n",
    "price_list = list(map(int, input_str.split(';')))\r\n",
    "price_list"
   ],
   "outputs": [
    {
     "output_type": "execute_result",
     "data": {
      "text/plain": [
       "[51900, 83000, 158000, 367500, 250000, 59200, 128500, 1304000]"
      ]
     },
     "metadata": {},
     "execution_count": 27
    }
   ],
   "metadata": {}
  },
  {
   "cell_type": "code",
   "execution_count": 28,
   "source": [
    "price_list.sort(reverse=True)\r\n",
    "price_list"
   ],
   "outputs": [
    {
     "output_type": "execute_result",
     "data": {
      "text/plain": [
       "[1304000, 367500, 250000, 158000, 128500, 83000, 59200, 51900]"
      ]
     },
     "metadata": {},
     "execution_count": 28
    }
   ],
   "metadata": {}
  },
  {
   "cell_type": "code",
   "execution_count": 29,
   "source": [
    "for price in price_list:\r\n",
    "    print(f'{price:9,d}')"
   ],
   "outputs": [
    {
     "output_type": "stream",
     "name": "stdout",
     "text": [
      "1,304,000\n",
      "  367,500\n",
      "  250,000\n",
      "  158,000\n",
      "  128,500\n",
      "   83,000\n",
      "   59,200\n",
      "   51,900\n"
     ]
    }
   ],
   "metadata": {}
  },
  {
   "cell_type": "markdown",
   "source": [
    "### u25\r\n",
    "표준 입력으로 문자열 여러 개와 숫자 여러 개가 두 줄로 입력되고, 첫 번째 줄은 키, 두 번째 줄은 값으로 하여 딕셔너리를 생성합니다. <br>다음 코드를 완성하여 딕셔너리에서 키가 'delta'인 키-값 쌍과 값이 30인 키-값 쌍을 삭제하도록 만드세요."
   ],
   "metadata": {}
  },
  {
   "cell_type": "code",
   "execution_count": 38,
   "source": [
    "# alpha bravo charlie delta\r\n",
    "# 10 20 30 40\r\n",
    "keys = input().split()\r\n",
    "values = map(int, input().split())\r\n",
    "x = dict(zip(keys, values))\r\n",
    "x"
   ],
   "outputs": [
    {
     "output_type": "execute_result",
     "data": {
      "text/plain": [
       "{'alpha': 10, 'bravo': 20, 'charlie': 30, 'delta': 40}"
      ]
     },
     "metadata": {},
     "execution_count": 38
    }
   ],
   "metadata": {}
  },
  {
   "cell_type": "code",
   "execution_count": 39,
   "source": [
    "del x['delta']\r\n",
    "x"
   ],
   "outputs": [
    {
     "output_type": "execute_result",
     "data": {
      "text/plain": [
       "{'alpha': 10, 'bravo': 20, 'charlie': 30}"
      ]
     },
     "metadata": {},
     "execution_count": 39
    }
   ],
   "metadata": {}
  },
  {
   "cell_type": "code",
   "execution_count": 40,
   "source": [
    "for key, value in x.items():\r\n",
    "    if value==30:\r\n",
    "        break\r\n",
    "\r\n",
    "x.pop(key)      # del x[key]\r\n",
    "x"
   ],
   "outputs": [
    {
     "output_type": "execute_result",
     "data": {
      "text/plain": [
       "{'alpha': 10, 'bravo': 20}"
      ]
     },
     "metadata": {},
     "execution_count": 40
    }
   ],
   "metadata": {}
  },
  {
   "cell_type": "markdown",
   "source": [
    "### u26\r\n",
    "표준 입력으로 양의 정수 두 개가 입력됩니다. 다음 소스 코드를 완성하여 두 숫자의 공약수를 세트 형태로 구하도록 만드세요. <br>단, 최종 결과는 공약수의 합으로 판단합니다."
   ],
   "metadata": {}
  },
  {
   "cell_type": "code",
   "execution_count": 31,
   "source": [
    "div_list = []\r\n",
    "x = 10\r\n",
    "for i in range(1,x+1):\r\n",
    "    if x % i == 0:\r\n",
    "        div_list.append(i)\r\n",
    "set(div_list)"
   ],
   "outputs": [
    {
     "output_type": "execute_result",
     "data": {
      "text/plain": [
       "{1, 2, 5, 10}"
      ]
     },
     "metadata": {},
     "execution_count": 31
    }
   ],
   "metadata": {}
  },
  {
   "cell_type": "code",
   "execution_count": 32,
   "source": [
    "x, y = map(int, input().split())\r\n",
    "a = set(i for i in range(1,x+1) if x%i == 0)\r\n",
    "b = set(i for i in range(1,y+1) if y%i == 0)\r\n",
    "print(a, b)\r\n",
    "divisor = a & b\r\n",
    " \r\n",
    "result = 0\r\n",
    "if type(divisor) == set:\r\n",
    "    result = sum(divisor)\r\n",
    " \r\n",
    "print(result)"
   ],
   "outputs": [
    {
     "output_type": "stream",
     "name": "stdout",
     "text": [
      "{1, 2, 10, 5} {1, 2, 4, 5, 10, 20}\n",
      "18\n"
     ]
    }
   ],
   "metadata": {}
  },
  {
   "cell_type": "code",
   "execution_count": null,
   "source": [],
   "outputs": [],
   "metadata": {}
  }
 ],
 "metadata": {
  "orig_nbformat": 4,
  "language_info": {
   "name": "python",
   "version": "3.8.10",
   "mimetype": "text/x-python",
   "codemirror_mode": {
    "name": "ipython",
    "version": 3
   },
   "pygments_lexer": "ipython3",
   "nbconvert_exporter": "python",
   "file_extension": ".py"
  },
  "kernelspec": {
   "name": "python3",
   "display_name": "Python 3.8.10 64-bit ('base': conda)"
  },
  "interpreter": {
   "hash": "1d2c35cbcf6c439fe4023d62c617fb10792e58220c81eb199d5fcf428c4dff3e"
  }
 },
 "nbformat": 4,
 "nbformat_minor": 2
}