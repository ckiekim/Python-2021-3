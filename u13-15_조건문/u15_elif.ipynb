{
  "nbformat": 4,
  "nbformat_minor": 0,
  "metadata": {
    "colab": {
      "name": "u15_elif.ipynb",
      "provenance": [],
      "collapsed_sections": []
    },
    "kernelspec": {
      "name": "python3",
      "display_name": "Python 3"
    },
    "language_info": {
      "name": "python"
    }
  },
  "cells": [
    {
      "cell_type": "code",
      "metadata": {
        "colab": {
          "base_uri": "https://localhost:8080/"
        },
        "id": "At3FNxf1kp0-",
        "outputId": "9ef4dc26-cf97-4c0a-9742-aaf0e1756eb2"
      },
      "source": [
        "x = 15\n",
        "if x == 10:\n",
        "    print('It is 10.')\n",
        "elif x == 20:\n",
        "    print('It is 20.')\n",
        "else:\n",
        "    print('10, 20이 아닙니다.')"
      ],
      "execution_count": 2,
      "outputs": [
        {
          "output_type": "stream",
          "text": [
            "10, 20이 아닙니다.\n"
          ],
          "name": "stdout"
        }
      ]
    },
    {
      "cell_type": "code",
      "metadata": {
        "colab": {
          "base_uri": "https://localhost:8080/"
        },
        "id": "8pCCGgOZoa90",
        "outputId": "6886a173-df60-41fd-a86c-13eb6be5b792"
      },
      "source": [
        "# 숫자 - 입력, 3의 배수면 Fizz, 5의 배수면 Buzz, 15의 배수면 BizzBuzz\n",
        "number = int(input())\n",
        "\n",
        "if number % 15 == 0:\n",
        "    print('FizzBuzz')\n",
        "elif number % 5 == 0:\n",
        "    print('Buzz')\n",
        "elif number % 3 == 0:\n",
        "    print('Fizz')\n",
        "else:\n",
        "    print(number)"
      ],
      "execution_count": 6,
      "outputs": [
        {
          "output_type": "stream",
          "text": [
            "30\n",
            "fizzbuzz\n"
          ],
          "name": "stdout"
        }
      ]
    },
    {
      "cell_type": "code",
      "metadata": {
        "colab": {
          "base_uri": "https://localhost:8080/"
        },
        "id": "7bSfGNmzq2Rr",
        "outputId": "57ccad6c-c250-4fba-a96c-bb763fb84b22"
      },
      "source": [
        "'Fizz' * False, 'Buzz' * True"
      ],
      "execution_count": 9,
      "outputs": [
        {
          "output_type": "execute_result",
          "data": {
            "text/plain": [
              "('', 'Buzz')"
            ]
          },
          "metadata": {
            "tags": []
          },
          "execution_count": 9
        }
      ]
    },
    {
      "cell_type": "code",
      "metadata": {
        "colab": {
          "base_uri": "https://localhost:8080/"
        },
        "id": "sm-ddlQ7qXaP",
        "outputId": "de781c26-2fe9-453b-fc7e-cc4f11663259"
      },
      "source": [
        "print('Fizz'*(number%3==0) + 'Buzz'*(number%5==0) or number)"
      ],
      "execution_count": 10,
      "outputs": [
        {
          "output_type": "stream",
          "text": [
            "FizzBuzz\n"
          ],
          "name": "stdout"
        }
      ]
    },
    {
      "cell_type": "code",
      "metadata": {
        "id": "jPbiwll1rYkK"
      },
      "source": [
        ""
      ],
      "execution_count": null,
      "outputs": []
    }
  ]
}