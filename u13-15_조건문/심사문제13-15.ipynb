{
 "cells": [
  {
   "cell_type": "markdown",
   "source": [
    "# 심사문제"
   ],
   "metadata": {}
  },
  {
   "cell_type": "markdown",
   "source": [
    "### u13\r\n",
    "표준 입력으로 가격(정수)과 쿠폰 이름이 각 줄에 입력됩니다. <br>\r\n",
    "Cash3000 쿠폰은 3,000원, Cash5000 쿠폰은 5,000원을 할인합니다. <br>\r\n",
    "쿠폰에 따라 할인된 가격을 출력하는 프로그램을 만드세요."
   ],
   "metadata": {}
  },
  {
   "cell_type": "code",
   "execution_count": 1,
   "source": [
    "# 27000 / Cash3000\r\n",
    "price = int(input())\r\n",
    "coupon = input()\r\n",
    "if coupon == 'Cash3000':\r\n",
    "    print(price - 3000)\r\n",
    "if coupon == 'Cash5000':\r\n",
    "    print(price - 5000)"
   ],
   "outputs": [
    {
     "output_type": "stream",
     "name": "stdout",
     "text": [
      "24000\n"
     ]
    }
   ],
   "metadata": {}
  },
  {
   "cell_type": "code",
   "execution_count": 2,
   "source": [
    "# 72000 / Cash5000\r\n",
    "price = int(input())\r\n",
    "coupon = input()\r\n",
    "if coupon == 'Cash3000':\r\n",
    "    print(price - 3000)\r\n",
    "if coupon == 'Cash5000':\r\n",
    "    print(price - 5000)"
   ],
   "outputs": [
    {
     "output_type": "stream",
     "name": "stdout",
     "text": [
      "67000\n"
     ]
    }
   ],
   "metadata": {}
  },
  {
   "cell_type": "markdown",
   "source": [
    "### u14\r\n",
    "표준 입력으로 국어, 영어, 수학, 과학 점수가 입력됩니다. <br>여기서 네 과목의 평균 점수가 80점 이상일 때 합격이라고 정했습니다. <br>평균 점수에 따라 '합격', '불합격'을 출력하는 프로그램을 만드세요. <br>단, 점수는 0점부터 100점까지만 입력받을 수 있으며 범위를 벗어났다면 '잘못된 점수'를 출력하고 <br>합격, 불합격 여부는 출력하지 않아야 합니다."
   ],
   "metadata": {}
  },
  {
   "cell_type": "code",
   "execution_count": 3,
   "source": [
    "# 89 72 93 82\r\n",
    "score = list(map(int, input().split()))\r\n",
    "if min(score) < 0 or max(score) > 100:\r\n",
    "    print('잘못된 점수')\r\n",
    "else:\r\n",
    "    avg = sum(score) / len(score)\r\n",
    "    if avg >= 80:\r\n",
    "        print('합격')\r\n",
    "    else:\r\n",
    "        print('불합격')"
   ],
   "outputs": [
    {
     "output_type": "stream",
     "name": "stdout",
     "text": [
      "합격\n"
     ]
    }
   ],
   "metadata": {}
  },
  {
   "cell_type": "code",
   "execution_count": 4,
   "source": [
    "# 100 79 68 71\r\n",
    "score = list(map(int, input().split()))\r\n",
    "if min(score) < 0 or max(score) > 100:\r\n",
    "    print('잘못된 점수')\r\n",
    "else:\r\n",
    "    avg = sum(score) / len(score)\r\n",
    "    if avg >= 80:\r\n",
    "        print('합격')\r\n",
    "    else:\r\n",
    "        print('불합격')"
   ],
   "outputs": [
    {
     "output_type": "stream",
     "name": "stdout",
     "text": [
      "불합격\n"
     ]
    }
   ],
   "metadata": {}
  },
  {
   "cell_type": "code",
   "execution_count": 5,
   "source": [
    "# 99 85 101 90\r\n",
    "score = list(map(int, input().split()))\r\n",
    "if min(score) < 0 or max(score) > 100:\r\n",
    "    print('잘못된 점수')\r\n",
    "else:\r\n",
    "    avg = sum(score) / len(score)\r\n",
    "    if avg >= 80:\r\n",
    "        print('합격')\r\n",
    "    else:\r\n",
    "        print('불합격')"
   ],
   "outputs": [
    {
     "output_type": "stream",
     "name": "stdout",
     "text": [
      "잘못된 점수\n"
     ]
    }
   ],
   "metadata": {}
  },
  {
   "cell_type": "markdown",
   "source": [
    "### u15\r\n",
    "표준 입력으로 나이(만 나이)가 입력됩니다(입력 값은 7 이상 입력됨). <br>교통카드 시스템에서 시내버스 요금은 다음과 같으며 각 나이에 맞게 요금을 차감한 뒤 잔액이 출력되게 만드세요(if, elif 사용). <br>현재 교통카드에는 9,000원이 들어있습니다.\r\n",
    "- 어린이(초등학생, 만 7세 이상 12세 이하): 650원\r\n",
    "- 청소년(중∙고등학생, 만 13세 이상 18세 이하): 1,050원\r\n",
    "- 어른(일반, 만 19세 이상): 1,250원"
   ],
   "metadata": {}
  },
  {
   "cell_type": "code",
   "execution_count": 1,
   "source": [
    "age = int(input(\"나이 입력\"))\r\n",
    "balance = 9000    # 교통카드 잔액\r\n",
    "\r\n",
    "if 7 <= age <= 12:\r\n",
    "    fare = 650\r\n",
    "elif 13 <= age <= 18 :\r\n",
    "    fare= 1050\r\n",
    "elif 19 <= age:\r\n",
    "    fare = 1250\r\n",
    "else:\r\n",
    "    fare = 0\r\n",
    "\r\n",
    "print(f'{age}살의 요금은 {fare}원 이며, 잔액은 {balance-fare}원 입니다.')"
   ],
   "outputs": [
    {
     "output_type": "stream",
     "name": "stdout",
     "text": [
      "10살의 요금은 650원 이며, 잔액은 8350원 입니다.\n"
     ]
    }
   ],
   "metadata": {}
  }
 ],
 "metadata": {
  "orig_nbformat": 4,
  "language_info": {
   "name": "python",
   "version": "3.8.10",
   "mimetype": "text/x-python",
   "codemirror_mode": {
    "name": "ipython",
    "version": 3
   },
   "pygments_lexer": "ipython3",
   "nbconvert_exporter": "python",
   "file_extension": ".py"
  },
  "kernelspec": {
   "name": "python3",
   "display_name": "Python 3.8.10 64-bit ('base': conda)"
  },
  "interpreter": {
   "hash": "1d2c35cbcf6c439fe4023d62c617fb10792e58220c81eb199d5fcf428c4dff3e"
  }
 },
 "nbformat": 4,
 "nbformat_minor": 2
}