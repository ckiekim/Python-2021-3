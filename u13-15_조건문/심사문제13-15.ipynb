{
 "cells": [
  {
   "cell_type": "markdown",
   "source": [
    "# 심사문제"
   ],
   "metadata": {}
  },
  {
   "cell_type": "markdown",
   "source": [
    "### u13\r\n",
    "표준 입력으로 가격(정수)과 쿠폰 이름이 각 줄에 입력됩니다. <br>\r\n",
    "Cash3000 쿠폰은 3,000원, Cash5000 쿠폰은 5,000원을 할인합니다. <br>\r\n",
    "쿠폰에 따라 할인된 가격을 출력하는 프로그램을 만드세요."
   ],
   "metadata": {}
  },
  {
   "cell_type": "code",
   "execution_count": 1,
   "source": [
    "# 27000 / Cash3000\r\n",
    "price = int(input())\r\n",
    "coupon = input()\r\n",
    "if coupon == 'Cash3000':\r\n",
    "    print(price - 3000)\r\n",
    "if coupon == 'Cash5000':\r\n",
    "    print(price - 5000)"
   ],
   "outputs": [
    {
     "output_type": "stream",
     "name": "stdout",
     "text": [
      "24000\n"
     ]
    }
   ],
   "metadata": {}
  },
  {
   "cell_type": "code",
   "execution_count": 2,
   "source": [
    "# 72000 / Cash5000\r\n",
    "price = int(input())\r\n",
    "coupon = input()\r\n",
    "if coupon == 'Cash3000':\r\n",
    "    print(price - 3000)\r\n",
    "if coupon == 'Cash5000':\r\n",
    "    print(price - 5000)"
   ],
   "outputs": [
    {
     "output_type": "stream",
     "name": "stdout",
     "text": [
      "67000\n"
     ]
    }
   ],
   "metadata": {}
  },
  {
   "cell_type": "markdown",
   "source": [
    "### u14\r\n",
    "표준 입력으로 국어, 영어, 수학, 과학 점수가 입력됩니다. <br>여기서 네 과목의 평균 점수가 80점 이상일 때 합격이라고 정했습니다. <br>평균 점수에 따라 '합격', '불합격'을 출력하는 프로그램을 만드세요. <br>단, 점수는 0점부터 100점까지만 입력받을 수 있으며 범위를 벗어났다면 '잘못된 점수'를 출력하고 <br>합격, 불합격 여부는 출력하지 않아야 합니다."
   ],
   "metadata": {}
  },
  {
   "cell_type": "code",
   "execution_count": 3,
   "source": [
    "# 89 72 93 82\r\n",
    "score = list(map(int, input().split()))\r\n",
    "if min(score) < 0 or max(score) > 100:\r\n",
    "    print('잘못된 점수')\r\n",
    "else:\r\n",
    "    avg = sum(score) / len(score)\r\n",
    "    if avg >= 80:\r\n",
    "        print('합격')\r\n",
    "    else:\r\n",
    "        print('불합격')"
   ],
   "outputs": [
    {
     "output_type": "stream",
     "name": "stdout",
     "text": [
      "합격\n"
     ]
    }
   ],
   "metadata": {}
  },
  {
   "cell_type": "code",
   "execution_count": 4,
   "source": [
    "# 100 79 68 71\r\n",
    "score = list(map(int, input().split()))\r\n",
    "if min(score) < 0 or max(score) > 100:\r\n",
    "    print('잘못된 점수')\r\n",
    "else:\r\n",
    "    avg = sum(score) / len(score)\r\n",
    "    if avg >= 80:\r\n",
    "        print('합격')\r\n",
    "    else:\r\n",
    "        print('불합격')"
   ],
   "outputs": [
    {
     "output_type": "stream",
     "name": "stdout",
     "text": [
      "불합격\n"
     ]
    }
   ],
   "metadata": {}
  },
  {
   "cell_type": "code",
   "execution_count": 5,
   "source": [
    "# 99 85 101 90\r\n",
    "score = list(map(int, input().split()))\r\n",
    "if min(score) < 0 or max(score) > 100:\r\n",
    "    print('잘못된 점수')\r\n",
    "else:\r\n",
    "    avg = sum(score) / len(score)\r\n",
    "    if avg >= 80:\r\n",
    "        print('합격')\r\n",
    "    else:\r\n",
    "        print('불합격')"
   ],
   "outputs": [
    {
     "output_type": "stream",
     "name": "stdout",
     "text": [
      "잘못된 점수\n"
     ]
    }
   ],
   "metadata": {}
  },
  {
   "cell_type": "code",
   "execution_count": null,
   "source": [],
   "outputs": [],
   "metadata": {}
  }
 ],
 "metadata": {
  "orig_nbformat": 4,
  "language_info": {
   "name": "python",
   "version": "3.8.10",
   "mimetype": "text/x-python",
   "codemirror_mode": {
    "name": "ipython",
    "version": 3
   },
   "pygments_lexer": "ipython3",
   "nbconvert_exporter": "python",
   "file_extension": ".py"
  },
  "kernelspec": {
   "name": "python3",
   "display_name": "Python 3.8.10 64-bit ('base': conda)"
  },
  "interpreter": {
   "hash": "1d2c35cbcf6c439fe4023d62c617fb10792e58220c81eb199d5fcf428c4dff3e"
  }
 },
 "nbformat": 4,
 "nbformat_minor": 2
}