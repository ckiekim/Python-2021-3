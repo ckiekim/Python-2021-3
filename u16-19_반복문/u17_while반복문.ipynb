{
  "nbformat": 4,
  "nbformat_minor": 0,
  "metadata": {
    "colab": {
      "name": "u17_while반복문.ipynb",
      "provenance": [],
      "collapsed_sections": []
    },
    "kernelspec": {
      "name": "python3",
      "display_name": "Python 3"
    },
    "language_info": {
      "name": "python"
    }
  },
  "cells": [
    {
      "cell_type": "markdown",
      "metadata": {
        "id": "N7WM5TZKAs22"
      },
      "source": [
        "# Unit 17. while 반복문"
      ]
    },
    {
      "cell_type": "markdown",
      "metadata": {
        "id": "kIoPnqk9AzFA"
      },
      "source": [
        "## 17.1 while 반복문\n",
        "- 반복횟수가 정해져 있는 반복문은 while을 쓰지 않는다."
      ]
    },
    {
      "cell_type": "markdown",
      "metadata": {
        "id": "HYJhPOObB8_S"
      },
      "source": [
        "## 17.2 반복 횟수가 없는 while 반복문"
      ]
    },
    {
      "cell_type": "code",
      "metadata": {
        "id": "Ry1dmO0MAsNk"
      },
      "source": [
        "import random"
      ],
      "execution_count": 1,
      "outputs": []
    },
    {
      "cell_type": "code",
      "metadata": {
        "colab": {
          "base_uri": "https://localhost:8080/"
        },
        "id": "OPt_iKpSCSMv",
        "outputId": "750f0126-f72e-4688-a90d-3e620b5ed7cc"
      },
      "source": [
        "random.random()"
      ],
      "execution_count": 4,
      "outputs": [
        {
          "output_type": "execute_result",
          "data": {
            "text/plain": [
              "0.3929238501683425"
            ]
          },
          "metadata": {
            "tags": []
          },
          "execution_count": 4
        }
      ]
    },
    {
      "cell_type": "code",
      "metadata": {
        "colab": {
          "base_uri": "https://localhost:8080/"
        },
        "id": "QHYS3Q-JCVLw",
        "outputId": "76650d93-94be-4a77-ef60-14787dc09c0a"
      },
      "source": [
        "random.randint(1, 6)"
      ],
      "execution_count": 7,
      "outputs": [
        {
          "output_type": "execute_result",
          "data": {
            "text/plain": [
              "6"
            ]
          },
          "metadata": {
            "tags": []
          },
          "execution_count": 7
        }
      ]
    },
    {
      "cell_type": "code",
      "metadata": {
        "colab": {
          "base_uri": "https://localhost:8080/"
        },
        "id": "ilX2BIV_CftD",
        "outputId": "23c7517b-3573-4ee4-a160-6afe1a360800"
      },
      "source": [
        "i = 0\n",
        "while i != 3:\n",
        "    i = random.randint(1,6)\n",
        "    print(i)"
      ],
      "execution_count": 8,
      "outputs": [
        {
          "output_type": "stream",
          "text": [
            "4\n",
            "3\n"
          ],
          "name": "stdout"
        }
      ]
    },
    {
      "cell_type": "code",
      "metadata": {
        "colab": {
          "base_uri": "https://localhost:8080/"
        },
        "id": "g9IdmC7ADBQI",
        "outputId": "85fb8cb9-dcd0-49cf-d160-3a302f1c5a84"
      },
      "source": [
        "i = 0\n",
        "dice = [1,2,3,4,5,6]\n",
        "while i != 3:\n",
        "    i = random.choice(dice)\n",
        "    print(i)"
      ],
      "execution_count": 9,
      "outputs": [
        {
          "output_type": "stream",
          "text": [
            "2\n",
            "1\n",
            "6\n",
            "4\n",
            "1\n",
            "6\n",
            "3\n"
          ],
          "name": "stdout"
        }
      ]
    },
    {
      "cell_type": "code",
      "metadata": {
        "colab": {
          "base_uri": "https://localhost:8080/"
        },
        "id": "9zrCgn8UDXni",
        "outputId": "b5b0fab4-9bf0-42af-87ce-7d5c7324f13f"
      },
      "source": [
        "random.sample(dice, 6)"
      ],
      "execution_count": 14,
      "outputs": [
        {
          "output_type": "execute_result",
          "data": {
            "text/plain": [
              "[1, 4, 6, 3, 2, 5]"
            ]
          },
          "metadata": {
            "tags": []
          },
          "execution_count": 14
        }
      ]
    },
    {
      "cell_type": "code",
      "metadata": {
        "id": "JxpgQ1HoDmcH"
      },
      "source": [
        ""
      ],
      "execution_count": null,
      "outputs": []
    }
  ]
}