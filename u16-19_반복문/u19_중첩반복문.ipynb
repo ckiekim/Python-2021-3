{
  "nbformat": 4,
  "nbformat_minor": 0,
  "metadata": {
    "colab": {
      "name": "u19_중첩반복문.ipynb",
      "provenance": [],
      "collapsed_sections": []
    },
    "kernelspec": {
      "name": "python3",
      "display_name": "Python 3"
    },
    "language_info": {
      "name": "python"
    }
  },
  "cells": [
    {
      "cell_type": "markdown",
      "metadata": {
        "id": "Dq3TZNV8bKVK"
      },
      "source": [
        "# Unit 19. 중첩 반복문"
      ]
    },
    {
      "cell_type": "markdown",
      "metadata": {
        "id": "Edq05MNBbQdi"
      },
      "source": [
        "## 19.1 중첩(Nested) for loop"
      ]
    },
    {
      "cell_type": "code",
      "metadata": {
        "colab": {
          "base_uri": "https://localhost:8080/"
        },
        "id": "b2uQqUvpbJYu",
        "outputId": "3ef7a2a3-e67d-4da7-cb96-61a13bf64be3"
      },
      "source": [
        "for i in range(1, 6):\n",
        "    for k in range(10, 60, 10):\n",
        "        print(k, end=' ')\n",
        "    print(i)"
      ],
      "execution_count": 2,
      "outputs": [
        {
          "output_type": "stream",
          "text": [
            "10 20 30 40 50 1\n",
            "10 20 30 40 50 2\n",
            "10 20 30 40 50 3\n",
            "10 20 30 40 50 4\n",
            "10 20 30 40 50 5\n"
          ],
          "name": "stdout"
        }
      ]
    },
    {
      "cell_type": "markdown",
      "metadata": {
        "id": "j6NLUi5zcotX"
      },
      "source": [
        "## 19.2 별 사각형"
      ]
    },
    {
      "cell_type": "code",
      "metadata": {
        "colab": {
          "base_uri": "https://localhost:8080/"
        },
        "id": "_yQBw3zdcVwL",
        "outputId": "f0cf8c85-9911-445b-e42c-b0479f3f0618"
      },
      "source": [
        "for i in range(5):\n",
        "    for _ in range(5):\n",
        "        print('*', end='')\n",
        "    print()"
      ],
      "execution_count": 3,
      "outputs": [
        {
          "output_type": "stream",
          "text": [
            "*****\n",
            "*****\n",
            "*****\n",
            "*****\n",
            "*****\n"
          ],
          "name": "stdout"
        }
      ]
    },
    {
      "cell_type": "code",
      "metadata": {
        "colab": {
          "base_uri": "https://localhost:8080/"
        },
        "id": "6J_YoJJPc6co",
        "outputId": "3542d3b1-6fdc-47c6-e344-34a8f7d4af93"
      },
      "source": [
        "# 평행사변형\n",
        "for i in range(4):\n",
        "    for _ in range(0, i):\n",
        "        print(' ', end='')\n",
        "    for _ in range(5):\n",
        "        print('*', end='')\n",
        "    print()"
      ],
      "execution_count": 4,
      "outputs": [
        {
          "output_type": "stream",
          "text": [
            "*****\n",
            " *****\n",
            "  *****\n",
            "   *****\n"
          ],
          "name": "stdout"
        }
      ]
    },
    {
      "cell_type": "code",
      "metadata": {
        "id": "c9_oLVp4eZgz"
      },
      "source": [
        "for i in range(0, 0):\n",
        "    print('*')"
      ],
      "execution_count": 5,
      "outputs": []
    },
    {
      "cell_type": "code",
      "metadata": {
        "colab": {
          "base_uri": "https://localhost:8080/"
        },
        "id": "8mSartxaekg0",
        "outputId": "557dcc12-37ac-43a2-83a0-2bfd5b4357cb"
      },
      "source": [
        "for i in range(4):\n",
        "    print(' '*i, '*'*5, sep='')"
      ],
      "execution_count": 6,
      "outputs": [
        {
          "output_type": "stream",
          "text": [
            "*****\n",
            " *****\n",
            "  *****\n",
            "   *****\n"
          ],
          "name": "stdout"
        }
      ]
    },
    {
      "cell_type": "markdown",
      "metadata": {
        "id": "9_1WRttUfK8u"
      },
      "source": [
        "## 19.3 계단식 별 모양"
      ]
    },
    {
      "cell_type": "code",
      "metadata": {
        "colab": {
          "base_uri": "https://localhost:8080/"
        },
        "id": "gWWYRkj5e2y4",
        "outputId": "92e47b28-2eb4-4bbf-f6f4-aca3c846df5c"
      },
      "source": [
        "for i in range(5):\n",
        "    for _ in range(i+1):\n",
        "        print('*', end='')\n",
        "    print()"
      ],
      "execution_count": 7,
      "outputs": [
        {
          "output_type": "stream",
          "text": [
            "*\n",
            "**\n",
            "***\n",
            "****\n",
            "*****\n"
          ],
          "name": "stdout"
        }
      ]
    },
    {
      "cell_type": "code",
      "metadata": {
        "colab": {
          "base_uri": "https://localhost:8080/"
        },
        "id": "8q3gg90sgzWc",
        "outputId": "243ab9ad-7a81-4a3e-d546-87b6bd77e579"
      },
      "source": [
        "for i in range(5):\n",
        "    print('*' * (i+1))"
      ],
      "execution_count": 10,
      "outputs": [
        {
          "output_type": "stream",
          "text": [
            "*\n",
            "**\n",
            "***\n",
            "****\n",
            "*****\n"
          ],
          "name": "stdout"
        }
      ]
    },
    {
      "cell_type": "code",
      "metadata": {
        "colab": {
          "base_uri": "https://localhost:8080/"
        },
        "id": "1DvLzU6xfzDy",
        "outputId": "9308be5a-b286-4c27-b1de-36c8ec709e06"
      },
      "source": [
        "for i in range(5):\n",
        "    for _ in range(i):\n",
        "        print(' ', end='')\n",
        "    for _ in range(5-i):\n",
        "        print('*', end='')\n",
        "    print()"
      ],
      "execution_count": 8,
      "outputs": [
        {
          "output_type": "stream",
          "text": [
            "*****\n",
            " ****\n",
            "  ***\n",
            "   **\n",
            "    *\n"
          ],
          "name": "stdout"
        }
      ]
    },
    {
      "cell_type": "code",
      "metadata": {
        "colab": {
          "base_uri": "https://localhost:8080/"
        },
        "id": "WKKouzxygqy6",
        "outputId": "c7f0197a-acc9-4c68-ae0d-bf93335c0619"
      },
      "source": [
        "for i in range(5):\n",
        "    print(' '*i, '*'*(5-i), sep='')"
      ],
      "execution_count": 11,
      "outputs": [
        {
          "output_type": "stream",
          "text": [
            "*****\n",
            " ****\n",
            "  ***\n",
            "   **\n",
            "    *\n"
          ],
          "name": "stdout"
        }
      ]
    },
    {
      "cell_type": "markdown",
      "metadata": {
        "id": "JXelwBEmhvIh"
      },
      "source": [
        "### Diamond 그리기"
      ]
    },
    {
      "cell_type": "code",
      "metadata": {
        "colab": {
          "base_uri": "https://localhost:8080/"
        },
        "id": "pHDfVIdHjy6z",
        "outputId": "0b61ecff-89d2-4a76-a268-3862e698f99f"
      },
      "source": [
        "for i in range(5):\n",
        "    for _ in range(4-i):\n",
        "        print(' ', end='')\n",
        "    for _ in range(2*i+1):\n",
        "        print('*', end='')\n",
        "    print()\n",
        "for i in range(4):\n",
        "    for _ in range(i+1):\n",
        "        print(' ', end='')\n",
        "    for _ in range(7-2*i):\n",
        "        print('*', end='')\n",
        "    print()"
      ],
      "execution_count": 25,
      "outputs": [
        {
          "output_type": "stream",
          "text": [
            "    *\n",
            "   ***\n",
            "  *****\n",
            " *******\n",
            "*********\n",
            " *******\n",
            "  *****\n",
            "   ***\n",
            "    *\n"
          ],
          "name": "stdout"
        }
      ]
    },
    {
      "cell_type": "code",
      "metadata": {
        "colab": {
          "base_uri": "https://localhost:8080/"
        },
        "id": "f9F_SPZtlBQp",
        "outputId": "8ee0a633-3584-444f-9f77-5745bfb789bf"
      },
      "source": [
        "for i in range(5):\n",
        "    print(' '*(4-i), '*'*(2*i+1), sep='')\n",
        "for i in range(4):\n",
        "    print(' '*(i+1), '*'*(7-2*i), sep='')"
      ],
      "execution_count": 31,
      "outputs": [
        {
          "output_type": "stream",
          "text": [
            "    *\n",
            "   ***\n",
            "  *****\n",
            " *******\n",
            "*********\n",
            " *******\n",
            "  *****\n",
            "   ***\n",
            "    *\n"
          ],
          "name": "stdout"
        }
      ]
    },
    {
      "cell_type": "code",
      "metadata": {
        "colab": {
          "base_uri": "https://localhost:8080/"
        },
        "id": "gsA0iPJemk3T",
        "outputId": "4103c5a8-8791-4441-ef92-e593acae479e"
      },
      "source": [
        "for i in range(-4, 5):\n",
        "    print(' ' * (abs(i)),'*' * (-2*abs(i)+9), sep='')"
      ],
      "execution_count": 32,
      "outputs": [
        {
          "output_type": "stream",
          "text": [
            "    *\n",
            "   ***\n",
            "  *****\n",
            " *******\n",
            "*********\n",
            " *******\n",
            "  *****\n",
            "   ***\n",
            "    *\n"
          ],
          "name": "stdout"
        }
      ]
    },
    {
      "cell_type": "code",
      "metadata": {
        "id": "SaMEEvxJn5cG"
      },
      "source": [
        ""
      ],
      "execution_count": null,
      "outputs": []
    }
  ]
}