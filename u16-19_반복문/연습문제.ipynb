{
 "cells": [
  {
   "cell_type": "markdown",
   "source": [
    "## 1. 피타고라스 수\r\n",
    "a + b + c = 1000 인 피타고라스 수를 구하시오. "
   ],
   "metadata": {}
  },
  {
   "cell_type": "code",
   "execution_count": 1,
   "source": [
    "for a in range(1,333):\r\n",
    "    for b in range(a+1,500):\r\n",
    "        c = 1000 - a - b\r\n",
    "        if c*c == a*a + b*b:\r\n",
    "            print(a, b, c)"
   ],
   "outputs": [
    {
     "output_type": "stream",
     "name": "stdout",
     "text": [
      "200 375 425\n"
     ]
    }
   ],
   "metadata": {}
  },
  {
   "cell_type": "code",
   "execution_count": 3,
   "source": [
    "[(a, b, c) for a in range(1,333)\r\n",
    "               for b in range(a+1,500)\r\n",
    "                   for c in range(b+1, 1000)\r\n",
    "                       if a+b+c==1000 and a*a + b*b == c*c]"
   ],
   "outputs": [
    {
     "output_type": "execute_result",
     "data": {
      "text/plain": [
       "[(200, 375, 425)]"
      ]
     },
     "metadata": {},
     "execution_count": 3
    }
   ],
   "metadata": {}
  },
  {
   "cell_type": "markdown",
   "source": [
    "## 2. 만 나이\r\n",
    "본인의 생일을 1998 12 15 과 같이 년 월 일로 입력받아 오늘 날짜의 만 나이를 구하는 프로그램을 작성하시오.\r\n"
   ],
   "metadata": {}
  },
  {
   "cell_type": "code",
   "execution_count": 4,
   "source": [
    "from datetime import date\r\n",
    "today = date.today()"
   ],
   "outputs": [],
   "metadata": {}
  },
  {
   "cell_type": "code",
   "execution_count": 5,
   "source": [
    "year, month, day = map(int, input('생일 입력').split())\r\n",
    "year, month, day"
   ],
   "outputs": [
    {
     "output_type": "execute_result",
     "data": {
      "text/plain": [
       "(2000, 7, 31)"
      ]
     },
     "metadata": {},
     "execution_count": 5
    }
   ],
   "metadata": {}
  },
  {
   "cell_type": "code",
   "execution_count": 6,
   "source": [
    "if month > today.month:\r\n",
    "    age = today.year - year - 1\r\n",
    "elif month < today.month:\r\n",
    "    age = today.year - year\r\n",
    "else:\r\n",
    "    if day > today.day:\r\n",
    "        age = today.year - year - 1\r\n",
    "    else:\r\n",
    "        age = today.year - year\r\n",
    "print(f'만 나이는 {age} 입니다.')"
   ],
   "outputs": [
    {
     "output_type": "stream",
     "name": "stdout",
     "text": [
      "만 나이는 20 입니다.\n"
     ]
    }
   ],
   "metadata": {}
  },
  {
   "cell_type": "markdown",
   "source": [
    "## 3. 디지털 시계\r\n",
    "디지털 시계에 하루동안(00:00~23:59) 3이 표시되는 시간을 초로 환산하면 총 몇 초(second) 일까요?\r\n",
    "- 디지털 시계는 하루동안 다음과 같이 시:분(00:00~23:59)으로 표시됨.\r\n"
   ],
   "metadata": {}
  },
  {
   "cell_type": "code",
   "execution_count": 9,
   "source": [
    "total_seconds = 0\r\n",
    "for hour in range(24):\r\n",
    "    for min in range(60):\r\n",
    "        display = f'{hour:02d}:{min:02d}'\r\n",
    "        if '3' in display:\r\n",
    "            total_seconds += 60\r\n",
    "print(total_seconds)"
   ],
   "outputs": [
    {
     "output_type": "stream",
     "name": "stdout",
     "text": [
      "29700\n"
     ]
    }
   ],
   "metadata": {}
  },
  {
   "cell_type": "code",
   "execution_count": null,
   "source": [],
   "outputs": [],
   "metadata": {}
  }
 ],
 "metadata": {
  "orig_nbformat": 4,
  "language_info": {
   "name": "python",
   "version": "3.8.10",
   "mimetype": "text/x-python",
   "codemirror_mode": {
    "name": "ipython",
    "version": 3
   },
   "pygments_lexer": "ipython3",
   "nbconvert_exporter": "python",
   "file_extension": ".py"
  },
  "kernelspec": {
   "name": "python3",
   "display_name": "Python 3.8.10 64-bit ('base': conda)"
  },
  "interpreter": {
   "hash": "1d2c35cbcf6c439fe4023d62c617fb10792e58220c81eb199d5fcf428c4dff3e"
  }
 },
 "nbformat": 4,
 "nbformat_minor": 2
}