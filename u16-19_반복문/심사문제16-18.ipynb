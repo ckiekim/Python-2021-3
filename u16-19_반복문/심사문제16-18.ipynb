{
 "cells": [
  {
   "cell_type": "markdown",
   "source": [
    "# 심사문제"
   ],
   "metadata": {}
  },
  {
   "cell_type": "markdown",
   "source": [
    "### u16\r\n",
    "표준 입력으로 정수가 입력됩니다. 입력된 정수의 구구단을 출력하는 프로그램을 만드세요. <br>출력 형식은 숫자 숫자 = 숫자처럼 만들고 숫자와 , = 사이는 공백을 한 칸 띄웁니다."
   ],
   "metadata": {}
  },
  {
   "cell_type": "code",
   "execution_count": 1,
   "source": [
    "n = int(input())\r\n",
    "for i in range(1,10):\r\n",
    "    print(f'{n} * {i} = {n*i}')"
   ],
   "outputs": [
    {
     "output_type": "stream",
     "name": "stdout",
     "text": [
      "8 * 1 = 8\n",
      "8 * 2 = 16\n",
      "8 * 3 = 24\n",
      "8 * 4 = 32\n",
      "8 * 5 = 40\n",
      "8 * 6 = 48\n",
      "8 * 7 = 56\n",
      "8 * 8 = 64\n",
      "8 * 9 = 72\n"
     ]
    }
   ],
   "metadata": {}
  },
  {
   "cell_type": "markdown",
   "source": [
    "### u17\r\n",
    "표준 입력으로 금액(정수)이 입력됩니다. 1회당 요금은 1,350원이고, 교통카드를 사용했을 때마다의 잔액을 각 줄에 출력하는 프로그램을 만드세요. <br>단, 최초 금액은 출력하지 않아야 합니다. 그리고 잔액은 음수가 될 수 없으며 잔액이 부족하면 출력을 끝냅니다."
   ],
   "metadata": {}
  },
  {
   "cell_type": "code",
   "execution_count": 2,
   "source": [
    "balance = int(input())\r\n",
    "\r\n",
    "fare = 1350\r\n",
    "while balance-fare >= 0 :\r\n",
    "    balance -= fare\r\n",
    "    print(balance)"
   ],
   "outputs": [
    {
     "output_type": "stream",
     "name": "stdout",
     "text": [
      "8650\n",
      "7300\n",
      "5950\n",
      "4600\n",
      "3250\n",
      "1900\n",
      "550\n"
     ]
    }
   ],
   "metadata": {}
  },
  {
   "cell_type": "markdown",
   "source": [
    "- 객체지향 방식"
   ],
   "metadata": {}
  },
  {
   "cell_type": "code",
   "execution_count": 3,
   "source": [
    "class Tmoney:\r\n",
    "    def __init__(self, balance):\r\n",
    "        self.balance = balance\r\n",
    "\r\n",
    "    def pay(self, fare):\r\n",
    "        if self.balance > fare :\r\n",
    "            self.balance -= fare\r\n",
    "            print(f'남은 잔액은 {self.balance}원 입니다.')\r\n",
    "        else : \r\n",
    "            print('지불 불가')"
   ],
   "outputs": [],
   "metadata": {}
  },
  {
   "cell_type": "code",
   "execution_count": 4,
   "source": [
    "balance = int(input())\r\n",
    "fare = 1350\r\n",
    "card = Tmoney(balance)\r\n",
    "\r\n",
    "while True :\r\n",
    "    if card.balance <= fare :\r\n",
    "        break\r\n",
    "    card.pay(fare)"
   ],
   "outputs": [
    {
     "output_type": "stream",
     "name": "stdout",
     "text": [
      "남은 잔액은 8650원 입니다.\n",
      "남은 잔액은 7300원 입니다.\n",
      "남은 잔액은 5950원 입니다.\n",
      "남은 잔액은 4600원 입니다.\n",
      "남은 잔액은 3250원 입니다.\n",
      "남은 잔액은 1900원 입니다.\n",
      "남은 잔액은 550원 입니다.\n"
     ]
    }
   ],
   "metadata": {}
  },
  {
   "cell_type": "markdown",
   "source": [
    "### u18\r\n",
    "표준 입력으로 정수 두 개가 입력됩니다(첫 번째 입력 값의 범위는 1~200, <br>두 번째 입력 값의 범위는 10~200이며 첫 번째 입력 값은 두 번째 입력 값보다 항상 작습니다). <br>다음 소스 코드를 완성하여 첫 번째 정수와 두 번째 정수 사이의 숫자 중 3으로 끝나지 않는 숫자가 출력되게 만드세요. <br>정답에 코드를 작성할 때는 while True:에 맞춰서 들여쓰기를 해주세요."
   ],
   "metadata": {}
  },
  {
   "cell_type": "code",
   "execution_count": 5,
   "source": [
    "x, y = list(map(int, input().split()))\r\n",
    "while True:\r\n",
    "    if x > y:\r\n",
    "        break\r\n",
    "    if x % 10 == 3:\r\n",
    "        x += 1\r\n",
    "        continue\r\n",
    "    print(x, end='  ')\r\n",
    "    x += 1"
   ],
   "outputs": [
    {
     "output_type": "stream",
     "name": "stdout",
     "text": [
      "100  101  102  104  105  106  107  108  109  110  111  112  114  115  "
     ]
    }
   ],
   "metadata": {}
  },
  {
   "cell_type": "markdown",
   "source": [],
   "metadata": {}
  }
 ],
 "metadata": {
  "orig_nbformat": 4,
  "language_info": {
   "name": "python",
   "version": "3.8.10",
   "mimetype": "text/x-python",
   "codemirror_mode": {
    "name": "ipython",
    "version": 3
   },
   "pygments_lexer": "ipython3",
   "nbconvert_exporter": "python",
   "file_extension": ".py"
  },
  "kernelspec": {
   "name": "python3",
   "display_name": "Python 3.8.10 64-bit ('base': conda)"
  },
  "interpreter": {
   "hash": "1d2c35cbcf6c439fe4023d62c617fb10792e58220c81eb199d5fcf428c4dff3e"
  }
 },
 "nbformat": 4,
 "nbformat_minor": 2
}