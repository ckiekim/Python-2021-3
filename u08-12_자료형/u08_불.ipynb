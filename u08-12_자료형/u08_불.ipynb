{
  "nbformat": 4,
  "nbformat_minor": 0,
  "metadata": {
    "colab": {
      "name": "u08_불.ipynb",
      "provenance": [],
      "collapsed_sections": []
    },
    "kernelspec": {
      "name": "python3",
      "display_name": "Python 3"
    },
    "language_info": {
      "name": "python"
    }
  },
  "cells": [
    {
      "cell_type": "markdown",
      "metadata": {
        "id": "xsF7hQGsea40"
      },
      "source": [
        "# Unit 8. 불과 비교/논리 연산자"
      ]
    },
    {
      "cell_type": "markdown",
      "metadata": {
        "id": "cvn-zHQzehhS"
      },
      "source": [
        "## 8.1 불(Bool)과 비교연산자"
      ]
    },
    {
      "cell_type": "code",
      "metadata": {
        "colab": {
          "base_uri": "https://localhost:8080/"
        },
        "id": "k09DRbPweaC3",
        "outputId": "60c28b30-79dd-450d-e33a-20f42c5e648e"
      },
      "source": [
        "True, False"
      ],
      "execution_count": 1,
      "outputs": [
        {
          "output_type": "execute_result",
          "data": {
            "text/plain": [
              "(True, False)"
            ]
          },
          "metadata": {
            "tags": []
          },
          "execution_count": 1
        }
      ]
    },
    {
      "cell_type": "code",
      "metadata": {
        "colab": {
          "base_uri": "https://localhost:8080/"
        },
        "id": "gWDpqfghe7MM",
        "outputId": "8b12fdd1-c8af-4366-97bb-7be95664fb76"
      },
      "source": [
        "# >, >=, <, <=, ==, !=\n",
        "10 >= 5"
      ],
      "execution_count": 2,
      "outputs": [
        {
          "output_type": "execute_result",
          "data": {
            "text/plain": [
              "True"
            ]
          },
          "metadata": {
            "tags": []
          },
          "execution_count": 2
        }
      ]
    },
    {
      "cell_type": "code",
      "metadata": {
        "colab": {
          "base_uri": "https://localhost:8080/"
        },
        "id": "Pt60VrePfxbz",
        "outputId": "14b58ff5-f0cd-437c-e27c-dfc5f06b81c4"
      },
      "source": [
        "a = 10 != 5\n",
        "a"
      ],
      "execution_count": 3,
      "outputs": [
        {
          "output_type": "execute_result",
          "data": {
            "text/plain": [
              "True"
            ]
          },
          "metadata": {
            "tags": []
          },
          "execution_count": 3
        }
      ]
    },
    {
      "cell_type": "code",
      "metadata": {
        "colab": {
          "base_uri": "https://localhost:8080/"
        },
        "id": "GyqgWH4bgDgl",
        "outputId": "ffe15a70-9270-4d63-9dd7-a78abb4bf039"
      },
      "source": [
        "'Python' == 'python'"
      ],
      "execution_count": 4,
      "outputs": [
        {
          "output_type": "execute_result",
          "data": {
            "text/plain": [
              "False"
            ]
          },
          "metadata": {
            "tags": []
          },
          "execution_count": 4
        }
      ]
    },
    {
      "cell_type": "markdown",
      "metadata": {
        "id": "FdANki-bgid4"
      },
      "source": [
        "## 8.2 논리연산자\n",
        "- and, or, not"
      ]
    },
    {
      "cell_type": "code",
      "metadata": {
        "colab": {
          "base_uri": "https://localhost:8080/"
        },
        "id": "Nk0uCUVWgMww",
        "outputId": "2075a7c7-dbbb-45e9-9ff4-71c0bf3fa645"
      },
      "source": [
        "not True and False or not False"
      ],
      "execution_count": 5,
      "outputs": [
        {
          "output_type": "execute_result",
          "data": {
            "text/plain": [
              "True"
            ]
          },
          "metadata": {
            "tags": []
          },
          "execution_count": 5
        }
      ]
    },
    {
      "cell_type": "code",
      "metadata": {
        "colab": {
          "base_uri": "https://localhost:8080/"
        },
        "id": "ZhW7PZIukGEO",
        "outputId": "4dddb4ed-54c4-4db4-81a6-1655f1b31331"
      },
      "source": [
        "((not True) and False) or (not False)"
      ],
      "execution_count": 6,
      "outputs": [
        {
          "output_type": "execute_result",
          "data": {
            "text/plain": [
              "True"
            ]
          },
          "metadata": {
            "tags": []
          },
          "execution_count": 6
        }
      ]
    },
    {
      "cell_type": "code",
      "metadata": {
        "colab": {
          "base_uri": "https://localhost:8080/"
        },
        "id": "WwHZbZLjkOfZ",
        "outputId": "5dd2d078-c869-4851-f4b2-cb9a624bc6ba"
      },
      "source": [
        "# x > 10, x < 5\n",
        "x = 6\n",
        "x > 10 or x < 5"
      ],
      "execution_count": 7,
      "outputs": [
        {
          "output_type": "execute_result",
          "data": {
            "text/plain": [
              "False"
            ]
          },
          "metadata": {
            "tags": []
          },
          "execution_count": 7
        }
      ]
    },
    {
      "cell_type": "code",
      "metadata": {
        "colab": {
          "base_uri": "https://localhost:8080/"
        },
        "id": "0UcZ6f_7kiHm",
        "outputId": "a9e481b9-2df5-40eb-d9dd-cafaa931fc41"
      },
      "source": [
        "# 5 < x < 10\n",
        "x > 5 and x < 10"
      ],
      "execution_count": 8,
      "outputs": [
        {
          "output_type": "execute_result",
          "data": {
            "text/plain": [
              "True"
            ]
          },
          "metadata": {
            "tags": []
          },
          "execution_count": 8
        }
      ]
    },
    {
      "cell_type": "code",
      "metadata": {
        "colab": {
          "base_uri": "https://localhost:8080/"
        },
        "id": "MSwUyRwvkrZJ",
        "outputId": "e322a99e-98af-4e20-eb0b-82ee2ebfa1fe"
      },
      "source": [
        "# 파이썬에서만 쓸 수 있는 표현\n",
        "5 < x < 10"
      ],
      "execution_count": 9,
      "outputs": [
        {
          "output_type": "execute_result",
          "data": {
            "text/plain": [
              "True"
            ]
          },
          "metadata": {
            "tags": []
          },
          "execution_count": 9
        }
      ]
    },
    {
      "cell_type": "markdown",
      "metadata": {
        "id": "YKPtJIG9lFXW"
      },
      "source": [
        "### 정수, 실수, 문자열"
      ]
    },
    {
      "cell_type": "code",
      "metadata": {
        "colab": {
          "base_uri": "https://localhost:8080/"
        },
        "id": "MnUh1Qjdkufq",
        "outputId": "fb3c3ebc-db6f-4d81-9dda-9f9d1529ef65"
      },
      "source": [
        "bool(0), bool(1), bool(4)"
      ],
      "execution_count": 12,
      "outputs": [
        {
          "output_type": "execute_result",
          "data": {
            "text/plain": [
              "(False, True, True)"
            ]
          },
          "metadata": {
            "tags": []
          },
          "execution_count": 12
        }
      ]
    },
    {
      "cell_type": "code",
      "metadata": {
        "colab": {
          "base_uri": "https://localhost:8080/"
        },
        "id": "ZGlWQI0llQYs",
        "outputId": "2708bc43-9ac4-41cc-ece8-26f2580589b7"
      },
      "source": [
        "bool(0.0), bool(1.), bool(-4.)"
      ],
      "execution_count": 13,
      "outputs": [
        {
          "output_type": "execute_result",
          "data": {
            "text/plain": [
              "(False, True, True)"
            ]
          },
          "metadata": {
            "tags": []
          },
          "execution_count": 13
        }
      ]
    },
    {
      "cell_type": "code",
      "metadata": {
        "colab": {
          "base_uri": "https://localhost:8080/"
        },
        "id": "4W3M6UJPldtI",
        "outputId": "6b744eee-8c47-46c8-9662-f41716b90c97"
      },
      "source": [
        "bool(''), bool('s')"
      ],
      "execution_count": 14,
      "outputs": [
        {
          "output_type": "execute_result",
          "data": {
            "text/plain": [
              "(False, True)"
            ]
          },
          "metadata": {
            "tags": []
          },
          "execution_count": 14
        }
      ]
    },
    {
      "cell_type": "code",
      "metadata": {
        "colab": {
          "base_uri": "https://localhost:8080/"
        },
        "id": "Mn6HgOv7llkq",
        "outputId": "29e74ea0-502e-4309-9489-c9b43ca55577"
      },
      "source": [
        "if 4:\n",
        "    print('4 is True')"
      ],
      "execution_count": 16,
      "outputs": [
        {
          "output_type": "stream",
          "text": [
            "4 is True\n"
          ],
          "name": "stdout"
        }
      ]
    },
    {
      "cell_type": "code",
      "metadata": {
        "colab": {
          "base_uri": "https://localhost:8080/"
        },
        "id": "7eBHJMKNlrZz",
        "outputId": "5b67f730-a7f5-4200-daf5-5a54b198f913"
      },
      "source": [
        "int(True), int(False)"
      ],
      "execution_count": 17,
      "outputs": [
        {
          "output_type": "execute_result",
          "data": {
            "text/plain": [
              "(1, 0)"
            ]
          },
          "metadata": {
            "tags": []
          },
          "execution_count": 17
        }
      ]
    },
    {
      "cell_type": "markdown",
      "metadata": {
        "id": "QoskG4YhmoLZ"
      },
      "source": [
        "### Short-circuit evaluation"
      ]
    },
    {
      "cell_type": "code",
      "metadata": {
        "colab": {
          "base_uri": "https://localhost:8080/"
        },
        "id": "2M_PXnall-Zp",
        "outputId": "364a9ed3-2a2f-40e6-f4c6-b526cf0830e8"
      },
      "source": [
        "1 or 'python'"
      ],
      "execution_count": 18,
      "outputs": [
        {
          "output_type": "execute_result",
          "data": {
            "text/plain": [
              "1"
            ]
          },
          "metadata": {
            "tags": []
          },
          "execution_count": 18
        }
      ]
    },
    {
      "cell_type": "code",
      "metadata": {
        "colab": {
          "base_uri": "https://localhost:8080/",
          "height": 35
        },
        "id": "nYv_-jykmQYW",
        "outputId": "0c6a6920-28ee-477f-9c17-ff75bfa2b002"
      },
      "source": [
        "0 or 'python'"
      ],
      "execution_count": 19,
      "outputs": [
        {
          "output_type": "execute_result",
          "data": {
            "application/vnd.google.colaboratory.intrinsic+json": {
              "type": "string"
            },
            "text/plain": [
              "'python'"
            ]
          },
          "metadata": {
            "tags": []
          },
          "execution_count": 19
        }
      ]
    },
    {
      "cell_type": "code",
      "metadata": {
        "colab": {
          "base_uri": "https://localhost:8080/",
          "height": 35
        },
        "id": "poQemyvYmWmn",
        "outputId": "e1942ed1-977c-4d8d-9c21-68f09eda370d"
      },
      "source": [
        "1 and 'python'"
      ],
      "execution_count": 20,
      "outputs": [
        {
          "output_type": "execute_result",
          "data": {
            "application/vnd.google.colaboratory.intrinsic+json": {
              "type": "string"
            },
            "text/plain": [
              "'python'"
            ]
          },
          "metadata": {
            "tags": []
          },
          "execution_count": 20
        }
      ]
    },
    {
      "cell_type": "code",
      "metadata": {
        "colab": {
          "base_uri": "https://localhost:8080/"
        },
        "id": "eB70uW-Nmfm6",
        "outputId": "e7c8cc74-03bc-444e-c997-2a92015f5a50"
      },
      "source": [
        "0 and 'python'"
      ],
      "execution_count": 21,
      "outputs": [
        {
          "output_type": "execute_result",
          "data": {
            "text/plain": [
              "0"
            ]
          },
          "metadata": {
            "tags": []
          },
          "execution_count": 21
        }
      ]
    },
    {
      "cell_type": "code",
      "metadata": {
        "id": "2ZC_9gxkmj4z"
      },
      "source": [
        ""
      ],
      "execution_count": null,
      "outputs": []
    }
  ]
}