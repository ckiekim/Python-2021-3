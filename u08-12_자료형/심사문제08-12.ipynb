{
 "cells": [
  {
   "cell_type": "markdown",
   "source": [
    "# 심사문제"
   ],
   "metadata": {}
  },
  {
   "cell_type": "markdown",
   "source": [
    "### u08\r\n",
    "표준 입력으로 국어, 영어, 수학, 과학 점수가 입력됩니다.<br>\r\n",
    "국어는 90점 이상, 영어는 80점 초과, 수학은 85점 초과, 과학은 80점 이상일 때 <br>\r\n",
    "합격이라고 정했습니다(한 과목이라도 조건에 만족하지 않으면 불합격). <br>\r\n",
    "합격이면 True, 불합격이면 False가 출력되게 만드세요"
   ],
   "metadata": {}
  },
  {
   "cell_type": "code",
   "execution_count": 1,
   "source": [
    "# 90 81 86 80 입력시\r\n",
    "kor, eng, mat, sci = list(map(int, input().split()))\r\n",
    "kor>=90 and eng>80 and mat>85 and sci>=80"
   ],
   "outputs": [
    {
     "output_type": "execute_result",
     "data": {
      "text/plain": [
       "True"
      ]
     },
     "metadata": {},
     "execution_count": 1
    }
   ],
   "metadata": {}
  },
  {
   "cell_type": "code",
   "execution_count": 2,
   "source": [
    "# 90 80 85 80 입력시\r\n",
    "kor, eng, mat, sci = list(map(int, input().split()))\r\n",
    "kor>=90 and eng>80 and mat>85 and sci>=80"
   ],
   "outputs": [
    {
     "output_type": "execute_result",
     "data": {
      "text/plain": [
       "False"
      ]
     },
     "metadata": {},
     "execution_count": 2
    }
   ],
   "metadata": {}
  },
  {
   "cell_type": "markdown",
   "source": [
    "### u09\r\n",
    "다음 소스 코드를 완성하여 실행 결과대로 문자열이 출력되게 만드세요."
   ],
   "metadata": {}
  },
  {
   "cell_type": "code",
   "execution_count": 3,
   "source": [
    "s = '''\\'Python\\' is a \"programming language\"\r\n",
    "that lets you work quickly\r\n",
    "and\r\n",
    "integrate systems more effectively.'''\r\n",
    "print(s)"
   ],
   "outputs": [
    {
     "output_type": "stream",
     "name": "stdout",
     "text": [
      "'Python' is a \"programming language\"\n",
      "that lets you work quickly\n",
      "and\n",
      "integrate systems more effectively.\n"
     ]
    }
   ],
   "metadata": {}
  },
  {
   "cell_type": "markdown",
   "source": [
    "### u10\r\n",
    "표준 입력으로 정수가 입력됩니다. <br>\r\n",
    "range의 시작하는 숫자는 -10, 끝나는 숫자는 10이며 <br>\r\n",
    "입력된 정수만큼 증가하는 숫자가 들어가도록 튜플을 만들고, <br>\r\n",
    "해당 튜플을 출력하는 프로그램을 만드세요."
   ],
   "metadata": {}
  },
  {
   "cell_type": "code",
   "execution_count": 4,
   "source": [
    "# 2\r\n",
    "inc = int(input())\r\n",
    "print(tuple(range(-10,10,inc)))"
   ],
   "outputs": [
    {
     "output_type": "stream",
     "name": "stdout",
     "text": [
      "(-10, -8, -6, -4, -2, 0, 2, 4, 6, 8)\n"
     ]
    }
   ],
   "metadata": {}
  },
  {
   "cell_type": "code",
   "execution_count": 5,
   "source": [
    "# 3\r\n",
    "inc = int(input())\r\n",
    "print(tuple(range(-10,10,inc)))"
   ],
   "outputs": [
    {
     "output_type": "stream",
     "name": "stdout",
     "text": [
      "(-10, -7, -4, -1, 2, 5, 8)\n"
     ]
    }
   ],
   "metadata": {}
  },
  {
   "cell_type": "markdown",
   "source": [
    "### u11-1\r\n",
    "표준 입력으로 숫자 또는 문자열 여러 개가 입력되어 리스트 x에 저장됩니다<br>\r\n",
    "(입력되는 숫자 또는 문자열의 개수는 정해져 있지 않음). <br>\r\n",
    "다음 소스 코드를 완성하여 리스트 x의 마지막 요소 5개를 삭제한 뒤 튜플로 출력되게 만드세요."
   ],
   "metadata": {}
  },
  {
   "cell_type": "code",
   "execution_count": 6,
   "source": [
    "# 1 2 3 4 5 6 7 8 9 10\r\n",
    "x = input().split()\r\n",
    "print(tuple(x[:-5]))"
   ],
   "outputs": [
    {
     "output_type": "stream",
     "name": "stdout",
     "text": [
      "('1', '2', '3', '4', '5')\n"
     ]
    }
   ],
   "metadata": {}
  },
  {
   "cell_type": "code",
   "execution_count": 7,
   "source": [
    "# oven bat pony total leak wreck curl crop space navy loss knee\r\n",
    "x = input().split()\r\n",
    "print(tuple(x[:-5]))"
   ],
   "outputs": [
    {
     "output_type": "stream",
     "name": "stdout",
     "text": [
      "('oven', 'bat', 'pony', 'total', 'leak', 'wreck', 'curl')\n"
     ]
    }
   ],
   "metadata": {}
  },
  {
   "cell_type": "markdown",
   "source": [
    "### u11-2\r\n",
    "표준 입력으로 문자열 두 개가 각 줄에 입력됩니다(문자열의 길이는 정해져 있지 않음).<br>\r\n",
    "첫 번째 문자열에서 인덱스가 홀수인 문자와 두 번째 문자열에서 인덱스가 짝수인 문자를 <br>\r\n",
    "연결하여 출력하는 프로그램을 만드세요. 연결 순서는 첫 번째 문자열, 두 번째 문자열 순입니다. <br>\r\n",
    "그리고 0은 짝수로 처리합니다."
   ],
   "metadata": {}
  },
  {
   "cell_type": "code",
   "execution_count": 8,
   "source": [
    "# python / python\r\n",
    "first = input()\r\n",
    "second = input()\r\n",
    "new = first[1::2] + second[::2]\r\n",
    "print(new)"
   ],
   "outputs": [
    {
     "output_type": "stream",
     "name": "stdout",
     "text": [
      "yhnpto\n"
     ]
    }
   ],
   "metadata": {}
  },
  {
   "cell_type": "code",
   "execution_count": 9,
   "source": [
    "# apple / strawberry\r\n",
    "first = input()\r\n",
    "second = input()\r\n",
    "new = first[1::2] + second[::2]\r\n",
    "print(new)"
   ],
   "outputs": [
    {
     "output_type": "stream",
     "name": "stdout",
     "text": [
      "plsrwer\n"
     ]
    }
   ],
   "metadata": {}
  },
  {
   "cell_type": "markdown",
   "source": [
    "### u12\r\n",
    "표준 입력으로 문자열 여러 개와 숫자(실수) 여러 개가 두 줄로 입력됩니다.<br>\r\n",
    "입력된 첫 번째 줄은 키, 두 번째 줄은 값으로 하여 딕셔너리를 생성한 뒤 딕셔너리를 출력하는 프로그램을 만드세요. <br>input().split()의 결과를 변수 한 개에 저장하면 리스트로 저장됩니다."
   ],
   "metadata": {}
  },
  {
   "cell_type": "code",
   "execution_count": 10,
   "source": [
    "# health health_regen mana mana_regen\r\n",
    "# 575.6 1.7 338.8 1.63\r\n",
    "keys = input().split()\r\n",
    "values = list(map(float, input().split()))\r\n",
    "dict(zip(keys, values))"
   ],
   "outputs": [
    {
     "output_type": "execute_result",
     "data": {
      "text/plain": [
       "{'health': 575.6, 'health_regen': 1.7, 'mana': 338.8, 'mana_regen': 1.63}"
      ]
     },
     "metadata": {},
     "execution_count": 10
    }
   ],
   "metadata": {}
  },
  {
   "cell_type": "code",
   "execution_count": 11,
   "source": [
    "# health mana melee attack_speed magic_resistance\r\n",
    "# 573.6 308.8 600 0.625 35.7\r\n",
    "keys = input().split()\r\n",
    "values = list(map(float, input().split()))\r\n",
    "dict(zip(keys, values))"
   ],
   "outputs": [
    {
     "output_type": "execute_result",
     "data": {
      "text/plain": [
       "{'health': 573.6,\n",
       " 'mana': 308.8,\n",
       " 'melee': 600.0,\n",
       " 'attack_speed': 0.625,\n",
       " 'magic_resistance': 35.7}"
      ]
     },
     "metadata": {},
     "execution_count": 11
    }
   ],
   "metadata": {}
  },
  {
   "cell_type": "code",
   "execution_count": null,
   "source": [],
   "outputs": [],
   "metadata": {}
  }
 ],
 "metadata": {
  "orig_nbformat": 4,
  "language_info": {
   "name": "python",
   "version": "3.8.10",
   "mimetype": "text/x-python",
   "codemirror_mode": {
    "name": "ipython",
    "version": 3
   },
   "pygments_lexer": "ipython3",
   "nbconvert_exporter": "python",
   "file_extension": ".py"
  },
  "kernelspec": {
   "name": "python3",
   "display_name": "Python 3.8.10 64-bit ('base': conda)"
  },
  "interpreter": {
   "hash": "1d2c35cbcf6c439fe4023d62c617fb10792e58220c81eb199d5fcf428c4dff3e"
  }
 },
 "nbformat": 4,
 "nbformat_minor": 2
}