{
  "nbformat": 4,
  "nbformat_minor": 0,
  "metadata": {
    "colab": {
      "name": "u10_리스트_튜플.ipynb",
      "provenance": [],
      "collapsed_sections": []
    },
    "kernelspec": {
      "name": "python3",
      "display_name": "Python 3"
    },
    "language_info": {
      "name": "python"
    }
  },
  "cells": [
    {
      "cell_type": "markdown",
      "metadata": {
        "id": "DTgeBl8egapN"
      },
      "source": [
        "# Unit 10. 리스트와 튜플"
      ]
    },
    {
      "cell_type": "markdown",
      "metadata": {
        "id": "AIM-dT_6iDDQ"
      },
      "source": [
        "## 10.1 리스트(list)"
      ]
    },
    {
      "cell_type": "code",
      "metadata": {
        "colab": {
          "base_uri": "https://localhost:8080/"
        },
        "id": "H4IUwEYVgP0B",
        "outputId": "cbedf2d8-3cfb-4d62-d928-8ec94803dfb7"
      },
      "source": [
        "a = [38, 21, 53, 62, 19]\n",
        "a"
      ],
      "execution_count": 1,
      "outputs": [
        {
          "output_type": "execute_result",
          "data": {
            "text/plain": [
              "[38, 21, 53, 62, 19]"
            ]
          },
          "metadata": {
            "tags": []
          },
          "execution_count": 1
        }
      ]
    },
    {
      "cell_type": "code",
      "metadata": {
        "colab": {
          "base_uri": "https://localhost:8080/"
        },
        "id": "Kbmp7GIViLJA",
        "outputId": "4426f0bb-398a-49e9-d1f0-4a7658ae9d80"
      },
      "source": [
        "# 파이썬에서는 리스트 엘리먼트가 다른 자료형도 가능\n",
        "person = ['James', 19, 175.4, True, [120, 80]]\n",
        "person"
      ],
      "execution_count": 3,
      "outputs": [
        {
          "output_type": "execute_result",
          "data": {
            "text/plain": [
              "['James', 19, 175.4, True, [120, 80]]"
            ]
          },
          "metadata": {
            "tags": []
          },
          "execution_count": 3
        }
      ]
    },
    {
      "cell_type": "code",
      "metadata": {
        "colab": {
          "base_uri": "https://localhost:8080/"
        },
        "id": "CRMtekBdiit9",
        "outputId": "7cd6eedc-0dbd-4862-dcc3-a189050e7f32"
      },
      "source": [
        "# 위의 person은 다음과 같은 딕셔너릴로 변경하는 것이 권장됨\n",
        "person_dict = {'name':'James', 'age':19, 'height':175.4, \n",
        "               'is_male':True, 'bp':[120, 80]}\n",
        "person_dict"
      ],
      "execution_count": 4,
      "outputs": [
        {
          "output_type": "execute_result",
          "data": {
            "text/plain": [
              "{'age': 19, 'bp': [120, 80], 'height': 175.4, 'is_male': True, 'name': 'James'}"
            ]
          },
          "metadata": {
            "tags": []
          },
          "execution_count": 4
        }
      ]
    },
    {
      "cell_type": "markdown",
      "metadata": {
        "id": "DUl1a6bbjzHv"
      },
      "source": [
        "### 빈 리스트 만들기"
      ]
    },
    {
      "cell_type": "code",
      "metadata": {
        "colab": {
          "base_uri": "https://localhost:8080/"
        },
        "id": "Mt7zV7ngjR6l",
        "outputId": "534cd84e-5d0d-43bf-8c36-6e9c4d5b38d6"
      },
      "source": [
        "a = []\n",
        "b = list()\n",
        "a, b"
      ],
      "execution_count": 5,
      "outputs": [
        {
          "output_type": "execute_result",
          "data": {
            "text/plain": [
              "([], [])"
            ]
          },
          "metadata": {
            "tags": []
          },
          "execution_count": 5
        }
      ]
    },
    {
      "cell_type": "code",
      "metadata": {
        "id": "T3B8i983j7a2"
      },
      "source": [
        "a, b = [], []"
      ],
      "execution_count": 6,
      "outputs": []
    },
    {
      "cell_type": "markdown",
      "metadata": {
        "id": "Wxrs1E6GkVRE"
      },
      "source": [
        "### range\n",
        "- range([시작숫자,] 끝나는 숫자+1 [, 증가분])"
      ]
    },
    {
      "cell_type": "code",
      "metadata": {
        "colab": {
          "base_uri": "https://localhost:8080/"
        },
        "id": "A1HxoPWekQZg",
        "outputId": "7aecd122-89c7-494d-e1e6-6c7944b9437e"
      },
      "source": [
        "a = range(10)\n",
        "a"
      ],
      "execution_count": 7,
      "outputs": [
        {
          "output_type": "execute_result",
          "data": {
            "text/plain": [
              "range(0, 10)"
            ]
          },
          "metadata": {
            "tags": []
          },
          "execution_count": 7
        }
      ]
    },
    {
      "cell_type": "code",
      "metadata": {
        "colab": {
          "base_uri": "https://localhost:8080/"
        },
        "id": "lTrA74VKk8Pb",
        "outputId": "5f6f30c9-9060-4fdd-ab2f-7bb88442578e"
      },
      "source": [
        "list(a)"
      ],
      "execution_count": 8,
      "outputs": [
        {
          "output_type": "execute_result",
          "data": {
            "text/plain": [
              "[0, 1, 2, 3, 4, 5, 6, 7, 8, 9]"
            ]
          },
          "metadata": {
            "tags": []
          },
          "execution_count": 8
        }
      ]
    },
    {
      "cell_type": "code",
      "metadata": {
        "colab": {
          "base_uri": "https://localhost:8080/"
        },
        "id": "DqDCQ6OulA1h",
        "outputId": "e67e41a2-b444-45ed-d692-63d926b4fbca"
      },
      "source": [
        "list(range(1,11))"
      ],
      "execution_count": 9,
      "outputs": [
        {
          "output_type": "execute_result",
          "data": {
            "text/plain": [
              "[1, 2, 3, 4, 5, 6, 7, 8, 9, 10]"
            ]
          },
          "metadata": {
            "tags": []
          },
          "execution_count": 9
        }
      ]
    },
    {
      "cell_type": "code",
      "metadata": {
        "colab": {
          "base_uri": "https://localhost:8080/"
        },
        "id": "tVcE64IOlS-P",
        "outputId": "4f2bb0d1-3115-4423-b9fd-4b46d8a37c79"
      },
      "source": [
        "list(range(1,10,2))"
      ],
      "execution_count": 10,
      "outputs": [
        {
          "output_type": "execute_result",
          "data": {
            "text/plain": [
              "[1, 3, 5, 7, 9]"
            ]
          },
          "metadata": {
            "tags": []
          },
          "execution_count": 10
        }
      ]
    },
    {
      "cell_type": "code",
      "metadata": {
        "colab": {
          "base_uri": "https://localhost:8080/"
        },
        "id": "QzOMoGqElpSm",
        "outputId": "f8124de6-ace4-4719-8b7a-b89215eee750"
      },
      "source": [
        "list(range(2,11,2))"
      ],
      "execution_count": 11,
      "outputs": [
        {
          "output_type": "execute_result",
          "data": {
            "text/plain": [
              "[2, 4, 6, 8, 10]"
            ]
          },
          "metadata": {
            "tags": []
          },
          "execution_count": 11
        }
      ]
    },
    {
      "cell_type": "code",
      "metadata": {
        "colab": {
          "base_uri": "https://localhost:8080/"
        },
        "id": "nHem4Y9vlxUY",
        "outputId": "b9c87ea7-234c-4063-91af-220b894733c3"
      },
      "source": [
        "list(range(10,0,-1))"
      ],
      "execution_count": 12,
      "outputs": [
        {
          "output_type": "execute_result",
          "data": {
            "text/plain": [
              "[10, 9, 8, 7, 6, 5, 4, 3, 2, 1]"
            ]
          },
          "metadata": {
            "tags": []
          },
          "execution_count": 12
        }
      ]
    },
    {
      "cell_type": "markdown",
      "metadata": {
        "id": "dcDAEhjzorBS"
      },
      "source": [
        "## 10.2 튜플(tuple)\n",
        "- Read-only 특성(변경 불가)"
      ]
    },
    {
      "cell_type": "code",
      "metadata": {
        "colab": {
          "base_uri": "https://localhost:8080/"
        },
        "id": "ENs6iVjzobhx",
        "outputId": "7aaedb99-2048-42b5-86fb-fed09a2cfe47"
      },
      "source": [
        "a = (38, 21, 47)\n",
        "a"
      ],
      "execution_count": 13,
      "outputs": [
        {
          "output_type": "execute_result",
          "data": {
            "text/plain": [
              "(38, 21, 47)"
            ]
          },
          "metadata": {
            "tags": []
          },
          "execution_count": 13
        }
      ]
    },
    {
      "cell_type": "code",
      "metadata": {
        "colab": {
          "base_uri": "https://localhost:8080/"
        },
        "id": "RlcttQa2o2mI",
        "outputId": "58199f45-a84c-4bfb-f35e-0d6c99a34bb7"
      },
      "source": [
        "a = 38, 21, 47\n",
        "a"
      ],
      "execution_count": 14,
      "outputs": [
        {
          "output_type": "execute_result",
          "data": {
            "text/plain": [
              "(38, 21, 47)"
            ]
          },
          "metadata": {
            "tags": []
          },
          "execution_count": 14
        }
      ]
    },
    {
      "cell_type": "code",
      "metadata": {
        "colab": {
          "base_uri": "https://localhost:8080/"
        },
        "id": "95ARgOPwo6uo",
        "outputId": "2b90438c-9726-4116-d262-d3bba2510ff3"
      },
      "source": [
        "person = ('James', 19, 175.4, True, [120, 80])\n",
        "person"
      ],
      "execution_count": 15,
      "outputs": [
        {
          "output_type": "execute_result",
          "data": {
            "text/plain": [
              "('James', 19, 175.4, True, [120, 80])"
            ]
          },
          "metadata": {
            "tags": []
          },
          "execution_count": 15
        }
      ]
    },
    {
      "cell_type": "code",
      "metadata": {
        "colab": {
          "base_uri": "https://localhost:8080/"
        },
        "id": "pyoo8pMFpL6u",
        "outputId": "bc780cf8-3bcb-4d2c-ddc9-7073244d2ed7"
      },
      "source": [
        "a = tuple()\n",
        "a"
      ],
      "execution_count": 18,
      "outputs": [
        {
          "output_type": "execute_result",
          "data": {
            "text/plain": [
              "()"
            ]
          },
          "metadata": {
            "tags": []
          },
          "execution_count": 18
        }
      ]
    },
    {
      "cell_type": "code",
      "metadata": {
        "colab": {
          "base_uri": "https://localhost:8080/"
        },
        "id": "fz4_CMoPpvew",
        "outputId": "efa9fa28-a7fd-477b-9248-159315c44d1a"
      },
      "source": [
        "# a는 정수\n",
        "a = (38)\n",
        "a"
      ],
      "execution_count": 19,
      "outputs": [
        {
          "output_type": "execute_result",
          "data": {
            "text/plain": [
              "38"
            ]
          },
          "metadata": {
            "tags": []
          },
          "execution_count": 19
        }
      ]
    },
    {
      "cell_type": "code",
      "metadata": {
        "colab": {
          "base_uri": "https://localhost:8080/"
        },
        "id": "uCHWEE6ZqLqx",
        "outputId": "9c2372c0-6500-4cff-ef1d-d04ee9e47001"
      },
      "source": [
        " # a는 튜플\n",
        " a = (38,)\n",
        " a"
      ],
      "execution_count": 20,
      "outputs": [
        {
          "output_type": "execute_result",
          "data": {
            "text/plain": [
              "(38,)"
            ]
          },
          "metadata": {
            "tags": []
          },
          "execution_count": 20
        }
      ]
    },
    {
      "cell_type": "code",
      "metadata": {
        "colab": {
          "base_uri": "https://localhost:8080/"
        },
        "id": "hbcS6T5rqIaL",
        "outputId": "50e5cb04-b959-431b-9bc4-ae759a1f28a8"
      },
      "source": [
        "tuple(range(5))"
      ],
      "execution_count": 21,
      "outputs": [
        {
          "output_type": "execute_result",
          "data": {
            "text/plain": [
              "(0, 1, 2, 3, 4)"
            ]
          },
          "metadata": {
            "tags": []
          },
          "execution_count": 21
        }
      ]
    },
    {
      "cell_type": "markdown",
      "metadata": {
        "id": "7jWXjYtMqxBS"
      },
      "source": [
        "### 리스트 <--> 튜플"
      ]
    },
    {
      "cell_type": "code",
      "metadata": {
        "colab": {
          "base_uri": "https://localhost:8080/"
        },
        "id": "6n5zNeaIqrb1",
        "outputId": "02a7e86f-0f98-4f0b-c3c6-dacfa882cfae"
      },
      "source": [
        "a = [1, 3, 4]\n",
        "b = tuple(a)\n",
        "b"
      ],
      "execution_count": 22,
      "outputs": [
        {
          "output_type": "execute_result",
          "data": {
            "text/plain": [
              "(1, 3, 4)"
            ]
          },
          "metadata": {
            "tags": []
          },
          "execution_count": 22
        }
      ]
    },
    {
      "cell_type": "code",
      "metadata": {
        "colab": {
          "base_uri": "https://localhost:8080/"
        },
        "id": "5rrYdE4yrEIS",
        "outputId": "6de280a5-6a0d-4e42-834b-37bb49aadccd"
      },
      "source": [
        "c = list(b)\n",
        "c"
      ],
      "execution_count": 24,
      "outputs": [
        {
          "output_type": "execute_result",
          "data": {
            "text/plain": [
              "[1, 3, 4]"
            ]
          },
          "metadata": {
            "tags": []
          },
          "execution_count": 24
        }
      ]
    },
    {
      "cell_type": "markdown",
      "metadata": {
        "id": "Kck8_jsVrbjN"
      },
      "source": [
        "### 문자열"
      ]
    },
    {
      "cell_type": "code",
      "metadata": {
        "colab": {
          "base_uri": "https://localhost:8080/"
        },
        "id": "zX-DjOMhrTq1",
        "outputId": "d1391dc9-41fa-482e-f7d2-28906d933029"
      },
      "source": [
        "tuple('Hello')"
      ],
      "execution_count": 26,
      "outputs": [
        {
          "output_type": "execute_result",
          "data": {
            "text/plain": [
              "('H', 'e', 'l', 'l', 'o')"
            ]
          },
          "metadata": {
            "tags": []
          },
          "execution_count": 26
        }
      ]
    },
    {
      "cell_type": "code",
      "metadata": {
        "colab": {
          "base_uri": "https://localhost:8080/"
        },
        "id": "nEybFCQKrigY",
        "outputId": "c7cbc2ed-6338-4d3a-86f1-8ed9f4cc6bc7"
      },
      "source": [
        "list('안녕하세요')"
      ],
      "execution_count": 27,
      "outputs": [
        {
          "output_type": "execute_result",
          "data": {
            "text/plain": [
              "['안', '녕', '하', '세', '요']"
            ]
          },
          "metadata": {
            "tags": []
          },
          "execution_count": 27
        }
      ]
    },
    {
      "cell_type": "markdown",
      "metadata": {
        "id": "hVWiQDHbr1z3"
      },
      "source": [
        "### 언팩킹(Unpacking)"
      ]
    },
    {
      "cell_type": "code",
      "metadata": {
        "colab": {
          "base_uri": "https://localhost:8080/"
        },
        "id": "TrQLKPFPrqIc",
        "outputId": "8e23dbe2-3e94-47c7-f268-3791539dad92"
      },
      "source": [
        "# tuple unpacking\n",
        "a = (1, 3, 4)\n",
        "x, y, z = a\n",
        "x, y, z"
      ],
      "execution_count": 28,
      "outputs": [
        {
          "output_type": "execute_result",
          "data": {
            "text/plain": [
              "(1, 3, 4)"
            ]
          },
          "metadata": {
            "tags": []
          },
          "execution_count": 28
        }
      ]
    },
    {
      "cell_type": "code",
      "metadata": {
        "colab": {
          "base_uri": "https://localhost:8080/"
        },
        "id": "huddODJWsB7S",
        "outputId": "fe95bd5c-6123-4a12-ce94-c8a5cae59e19"
      },
      "source": [
        "# list unpacking\n",
        "x, y, z = [1, 3, 5]\n",
        "x, y, z"
      ],
      "execution_count": 29,
      "outputs": [
        {
          "output_type": "execute_result",
          "data": {
            "text/plain": [
              "(1, 3, 5)"
            ]
          },
          "metadata": {
            "tags": []
          },
          "execution_count": 29
        }
      ]
    },
    {
      "cell_type": "code",
      "metadata": {
        "id": "VnMEUsg6sWh3"
      },
      "source": [
        ""
      ],
      "execution_count": null,
      "outputs": []
    }
  ]
}